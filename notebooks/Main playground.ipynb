{
 "cells": [
  {
   "cell_type": "code",
   "execution_count": 1,
   "id": "e1828c49",
   "metadata": {},
   "outputs": [],
   "source": [
    "import sys\n",
    "\n",
    "import sys\n",
    "def restart_django():\n",
    "    import os\n",
    "    import sys\n",
    "    import django\n",
    "    #define a raiz do projeto par aser possivel importar os modulos\n",
    "    sys.path.append(\"../src\")\n",
    "\n",
    "    #configura o ambiente\n",
    "    os.environ.setdefault(\"DJANGO_SETTINGS_MODULE\", \"github_classroom.settings\")\n",
    "    os.environ[\"DJANGO_ALLOW_ASYNC_UNSAFE\"] = \"true\"\n",
    "    django.setup()\n",
    "restart_django()"
   ]
  },
  {
   "cell_type": "markdown",
   "id": "14337708",
   "metadata": {},
   "source": [
    "## Github Classroom\n",
    "\n",
    "<p> <a href=\"#salva_tarefas_gc_bd\">Salva tarefas GitClassroom -> BD<a></p>\n",
    "    <p> <a href=\"#avalia\">Avalia atividade dos alunos</a></p>\n",
    "\n",
    "\n",
    "## Banco de dados \n",
    "\n",
    "<a href=\"#bd_atualizadisciplina\">Atualiza disciplina ou atividade</a>\n",
    "\n",
    "## SIGAA\n",
    "\n",
    "    \n",
    "<p><a href=\"#lanca_nota\">Lança notas persistidas dos alunos</a></p>\n",
    "<p><a href=\"#salva_tarefa_sigaa\">Salva tarefa BD -> SIGaA</a></p>"
   ]
  },
  {
   "cell_type": "code",
   "execution_count": 3,
   "id": "b2edd928",
   "metadata": {},
   "outputs": [],
   "source": [
    "LPW = \"1INF.016\"\n",
    "WEBGRAD = \"DECOM.199\"\n"
   ]
  },
  {
   "cell_type": "markdown",
   "id": "b700340b",
   "metadata": {},
   "source": [
    "**Atenção!** É necessário logar novamente se passamos um tempo sem logar"
   ]
  },
  {
   "cell_type": "code",
   "execution_count": 7,
   "id": "760c533f",
   "metadata": {},
   "outputs": [
    {
     "data": {
      "text/plain": [
       "<selenium.webdriver.chrome.webdriver.WebDriver (session=\"4bebc403b9b563942a78288aee5b17b4\")>"
      ]
     },
     "execution_count": 7,
     "metadata": {},
     "output_type": "execute_result"
    }
   ],
   "source": [
    "from classroom.scrapper.base import abre_chrome_github##\n",
    "\n",
    "abre_chrome_github()"
   ]
  },
  {
   "cell_type": "markdown",
   "id": "c17c5763",
   "metadata": {},
   "source": [
    "<div id=\"avalia\"></div>\n",
    "\n",
    "## Avalia/salva notas dos alunos"
   ]
  },
  {
   "cell_type": "code",
   "execution_count": 4,
   "id": "87d7da5a",
   "metadata": {
    "scrolled": true
   },
   "outputs": [
    {
     "name": "stdout",
     "output_type": "stream",
     "text": [
      "Veio aqui\n",
      "Encontrou 30 estudantes\n",
      "Estudante ALICE SOARES ROSA VASCONCELOS ignorado\n",
      "Estudante ANA SOFIA DE MIRANDA ignorado\n",
      "Estudante ARTUR DIAS ALVES PIRES ignorado\n",
      "Estudante CAIO FILLIPE SOUZA DA SILVA ignorado\n",
      "Estudante CAROLINA MOREIRA BRAGA ignorado\n",
      "Estudante CESAR COSTA RIBEIRO ignorado\n",
      "Estudante EDUARDO LOPES FIALHO ignorado\n",
      "Estudante FRANCISCO MARTINS MENEZES MATOS ignorado\n",
      "Estudante GABRIEL CEZAR DEOLINDO ignorado\n",
      "Estudante GABRIEL MARROCOS FONSECA ignorado\n",
      "Estudante HEITOR DE CARVALHO BARBOSA CAMARGOS ignorado\n",
      "Estudante HIKE PENEDO MENDES ignorado\n",
      "Estudante Hugo Rodrigues ignorado\n",
      "Estudante ISABELLA RODRIGUES OLIVEIRA DE SOUZA ignorado\n",
      "Estudante JEAN CARLO DA SILVA SANTOS ignorado\n",
      "Estudante Jurema ignorado\n",
      "Estudante LEANDRO MATEUS MENDES ignorado\n",
      "Estudante LUÍS FILLIPE DIAS DE OLIVEIRA ignorado\n",
      "Estudante LUIZA MARQUES SILVA ignorado\n",
      "Estudante MATEUS TERTULIANO LIMA ignorado\n",
      "Estudante MATEUS VASCONCELOS RODRIGUES MENDES ignorado\n",
      "Estudante NÍCOLAS EDUARDO FERNANDES GÓMEZ ignorado\n",
      "Estudante OTAVIO COTA GOMES QUINTAO ignorado\n",
      "Tempo: 23.721474647521973\n",
      "Tempo: 11.153600931167603\n",
      "Tempo: 18.47276496887207\n",
      "Tempo: 7.423379898071289\n",
      "Tempo: 11.333745241165161\n",
      "Tempo: 10.668603420257568\n",
      "Tempo: 13.688963651657104\n",
      "Veio aqui\n",
      "Encontrou 6 estudantes\n",
      "Tempo: 11.328754663467407\n",
      "Tempo: 10.972471952438354\n",
      "Tempo: 7.1782684326171875\n",
      "Tempo: 13.150943279266357\n",
      "Tempo: 10.683749675750732\n",
      "Tempo: 8.820434093475342\n"
     ]
    }
   ],
   "source": [
    "from classroom.scrapper.github_classroom.controller import update_grades\n",
    "\n",
    "first_student_to_eval = \"pedro\"\n",
    "update_grades(LPW, \"bees\", first_student_to_eval)\n",
    "#abre_chrome_github()"
   ]
  },
  {
   "cell_type": "markdown",
   "id": "96266b6e",
   "metadata": {},
   "source": [
    "<div id=\"bd_atualizadisciplina\"></div>\n",
    "\n",
    "## Atualiza alguma atividade ou disciplina"
   ]
  },
  {
   "cell_type": "code",
   "execution_count": null,
   "id": "22f0428c",
   "metadata": {},
   "outputs": [],
   "source": [
    "from classroom.models import *\n",
    "obj_assignment = Assignment.objects.get(discipline_fk__code__iexact = LPW,\n",
    "                                acronym__iexact = \"mypg\")\n",
    "\n",
    "obj_assignment.total_grade = 6\n",
    "obj_assignment.save()"
   ]
  },
  {
   "cell_type": "code",
   "execution_count": 16,
   "id": "02ef33f6",
   "metadata": {},
   "outputs": [],
   "source": [
    "from classroom.models import *\n",
    "\n",
    "obj_assign = Assignment.objects.get(discipline_fk__code__iexact = LPW,\n",
    "                                acronym__iexact = \"bees\")\n",
    "obj_assign.assignment_url = \"https://classroom.github.com/classrooms/150465862-1inf-016-lab-programacao-web-2024/assignments/web-abelhas\"\n",
    "obj_assign.save()"
   ]
  },
  {
   "cell_type": "code",
   "execution_count": 9,
   "id": "e37cae5e",
   "metadata": {},
   "outputs": [],
   "source": [
    "from classroom.models import *\n",
    "obj_discipline = Discipline.objects.get(code = LPW)\n",
    "obj_discipline.code = \"1INF.016\"\n",
    "obj_discipline.save()"
   ]
  },
  {
   "cell_type": "markdown",
   "id": "30f54884",
   "metadata": {},
   "source": [
    "<div id=\"lanca_nota\"></div>\n",
    "\n",
    "## Lança notas persistidas no SIGAA"
   ]
  },
  {
   "cell_type": "code",
   "execution_count": null,
   "id": "502d46e4",
   "metadata": {},
   "outputs": [],
   "source": []
  },
  {
   "cell_type": "code",
   "execution_count": 5,
   "id": "16914f34",
   "metadata": {
    "scrolled": true
   },
   "outputs": [
    {
     "name": "stdout",
     "output_type": "stream",
     "text": [
      "Num disciplines: 1\n",
      "Aguardando...\n",
      "Aguardando...\n",
      "Aguardando...\n",
      "Aguardando...\n",
      "Aguardando...\n",
      "Aguardando...\n",
      "Aguardando...\n",
      "Disciplina DECOM.57 - TÓPICOS ESPECIAIS EM ENGENHARIA DE SOFTWARE: PROGRAMAÇÃO PARA WEB - T01 não é igual a 1INF.016\n",
      "SIGAA DISCIPLINE: 1INF.016 - LABORATÓRIO DE PROGRAMAÇÃO PARA WEB - TT2 - TÉCNICO EM INFORMÁTICA - BH-1INFOR - A (2024)\n",
      "[1INF.016] Lab Programação Web 2024\n",
      "Acronyms not found: set()\n",
      "Disciplina DECOM.57 - TÓPICOS ESPECIAIS EM ENGENHARIA DE SOFTWARE: PROGRAMAÇÃO PARA WEB - T01 não é igual a 1INF.016\n",
      "SIGAA DISCIPLINE: 1INF.016 - LABORATÓRIO DE PROGRAMAÇÃO PARA WEB - TT1 - TÉCNICO EM INFORMÁTICA - BH-1INFOR - A (2024)\n",
      "[1INF.016] Lab Programação Web 2024\n",
      "Acronyms not found: set()\n",
      "Disciplina DECOM.57 - TÓPICOS ESPECIAIS EM ENGENHARIA DE SOFTWARE: PROGRAMAÇÃO PARA WEB - T01 não é igual a 1INF.016\n",
      "SIGAA DISCIPLINE: 1INF.016 - LABORATÓRIO DE PROGRAMAÇÃO PARA WEB - TT3 - TÉCNICO EM INFORMÁTICA - BH-1INFOR - A (2024)\n",
      "[1INF.016] Lab Programação Web 2024\n",
      "Acronyms not found: set()\n",
      "Disciplina DECOM.57 - TÓPICOS ESPECIAIS EM ENGENHARIA DE SOFTWARE: PROGRAMAÇÃO PARA WEB - T01 não é igual a 1INF.016\n"
     ]
    }
   ],
   "source": [
    "from classroom.scrapper.sigaa.controller import update_grades as update_grades_sigaa\n",
    "update_grades_sigaa(LPW)\n"
   ]
  },
  {
   "cell_type": "markdown",
   "id": "fe918d4a",
   "metadata": {},
   "source": [
    "<div id=\"salva_tarefas_gc_bd\"> </div>\n",
    "\n",
    "## Salva tarefas do Github Classroom"
   ]
  },
  {
   "cell_type": "code",
   "execution_count": null,
   "id": "c3c2e2d7",
   "metadata": {},
   "outputs": [],
   "source": [
    "from classroom.scrapper.base import abre_chrome_github\n",
    "browser = abre_chrome_github()"
   ]
  },
  {
   "cell_type": "code",
   "execution_count": null,
   "id": "d6dc199f",
   "metadata": {
    "scrolled": true
   },
   "outputs": [],
   "source": [
    "from classroom.scrapper.github_classroom.controller import update_tasks\n",
    "update_tasks(LPW)"
   ]
  },
  {
   "cell_type": "markdown",
   "id": "71ba62d5",
   "metadata": {},
   "source": [
    "## Notas atribuidas por tópico"
   ]
  },
  {
   "cell_type": "code",
   "execution_count": null,
   "id": "132a4466",
   "metadata": {},
   "outputs": [],
   "source": [
    "from classroom.models import *\n",
    "from django.db.models import Sum, F\n",
    "import pandas as pd\n",
    "\n",
    "disciplina = \"Prog. Web 2024/1\"\n",
    "grade_per_topic = Assignment.objects.filter(discipline_fk__name = disciplina)\\\n",
    "                .values(\"topic_fk__acronym\")\\\n",
    "                .annotate(topico=F('topic_fk__acronym'),\n",
    "                            nota=Sum(\"total_grade\"))\\\n",
    "            .values(\"topico\",\"nota\")\n",
    "                                                         \n",
    "pd.DataFrame.from_dict(grade_per_topic)"
   ]
  },
  {
   "cell_type": "markdown",
   "id": "c1862026",
   "metadata": {},
   "source": [
    "<div id=\"salva_tarefa_sigaa\"></div>\n",
    "\n",
    "## Salva tarefas persistidas no SIGAA"
   ]
  },
  {
   "cell_type": "code",
   "execution_count": null,
   "id": "3f07edcd",
   "metadata": {
    "scrolled": false
   },
   "outputs": [],
   "source": [
    "from classroom.scrapper.sigaa.controller import update_tasks as update_tasks_sigaa\n",
    "disciplina = \"Prog. Web 2024/1\"\n",
    "update_tasks_sigaa(disciplina)"
   ]
  },
  {
   "cell_type": "code",
   "execution_count": null,
   "id": "43cde77c",
   "metadata": {},
   "outputs": [],
   "source": [
    "from datetime import datetime\n",
    "datetime.now()"
   ]
  },
  {
   "cell_type": "markdown",
   "id": "156f8bf4",
   "metadata": {},
   "source": [
    "## Atualiza data das tarefas no GITHUB Classrrom"
   ]
  },
  {
   "cell_type": "code",
   "execution_count": null,
   "id": "a5719571",
   "metadata": {
    "scrolled": true
   },
   "outputs": [],
   "source": [
    "from classroom.scrapper.github_classroom.controller import update_classroom_assignment_deadlines\n",
    "from datetime import datetime\n",
    "\n",
    "from_deadline = datetime.now()\n",
    "discipline_name = \"Lab Programação Web 2024\"\n",
    "\n",
    "update_classroom_assignment_deadlines(discipline_name, from_deadline)"
   ]
  },
  {
   "cell_type": "code",
   "execution_count": null,
   "id": "ece2be8e",
   "metadata": {},
   "outputs": [],
   "source": [
    "from classroom.models import *\n",
    "ninja = Assignment.objects.get(discipline_fk__name = \"Lab Programação Web 2024\", acronym = \"ninj\")\n",
    "ninja.delete()"
   ]
  },
  {
   "cell_type": "markdown",
   "id": "b28e8b97",
   "metadata": {},
   "source": [
    "## Relatorios por aula/atividade"
   ]
  },
  {
   "cell_type": "code",
   "execution_count": 4,
   "id": "84b43e95",
   "metadata": {},
   "outputs": [],
   "source": [
    "from django.db.models import Sum\n",
    "from classroom.models import *\n",
    "import pandas as pd\n",
    "topic = \"1B\"\n",
    "discipline_code = LPW\n",
    "\n",
    "handins = Handin.objects.filter(assignment_fk__discipline_fk__code =  discipline_code)\n",
    "if topic:\n",
    "    handins = handins.filter(assignment_fk__topic_fk__acronym = topic)\n",
    "\n",
    "\n",
    "\n",
    "\n"
   ]
  },
  {
   "cell_type": "code",
   "execution_count": 5,
   "id": "30a36b13",
   "metadata": {},
   "outputs": [
    {
     "data": {
      "text/html": [
       "<div>\n",
       "<style scoped>\n",
       "    .dataframe tbody tr th:only-of-type {\n",
       "        vertical-align: middle;\n",
       "    }\n",
       "\n",
       "    .dataframe tbody tr th {\n",
       "        vertical-align: top;\n",
       "    }\n",
       "\n",
       "    .dataframe thead th {\n",
       "        text-align: right;\n",
       "    }\n",
       "</style>\n",
       "<table border=\"1\" class=\"dataframe\">\n",
       "  <thead>\n",
       "    <tr style=\"text-align: right;\">\n",
       "      <th></th>\n",
       "      <th>student_fk__name</th>\n",
       "      <th>complementar_grade</th>\n",
       "    </tr>\n",
       "  </thead>\n",
       "  <tbody>\n",
       "    <tr>\n",
       "      <th>0</th>\n",
       "      <td>ALICE SOARES ROSA VASCONCELOS</td>\n",
       "      <td>0</td>\n",
       "    </tr>\n",
       "    <tr>\n",
       "      <th>1</th>\n",
       "      <td>ANA SOFIA DE MIRANDA</td>\n",
       "      <td>3</td>\n",
       "    </tr>\n",
       "    <tr>\n",
       "      <th>2</th>\n",
       "      <td>ARTUR DIAS ALVES PIRES</td>\n",
       "      <td>2.5</td>\n",
       "    </tr>\n",
       "    <tr>\n",
       "      <th>3</th>\n",
       "      <td>CAIO FILLIPE SOUZA DA SILVA</td>\n",
       "      <td>2</td>\n",
       "    </tr>\n",
       "    <tr>\n",
       "      <th>4</th>\n",
       "      <td>CAROLINA MOREIRA BRAGA</td>\n",
       "      <td>5</td>\n",
       "    </tr>\n",
       "    <tr>\n",
       "      <th>5</th>\n",
       "      <td>CESAR COSTA RIBEIRO</td>\n",
       "      <td>0</td>\n",
       "    </tr>\n",
       "    <tr>\n",
       "      <th>6</th>\n",
       "      <td>DANIEL HENRIQUE ANTUNES</td>\n",
       "      <td>0</td>\n",
       "    </tr>\n",
       "    <tr>\n",
       "      <th>7</th>\n",
       "      <td>EDUARDO LOPES FIALHO</td>\n",
       "      <td>3</td>\n",
       "    </tr>\n",
       "    <tr>\n",
       "      <th>8</th>\n",
       "      <td>FRANCISCO MARTINS MENEZES MATOS</td>\n",
       "      <td>4</td>\n",
       "    </tr>\n",
       "    <tr>\n",
       "      <th>9</th>\n",
       "      <td>GABRIEL CEZAR DEOLINDO</td>\n",
       "      <td>1.5</td>\n",
       "    </tr>\n",
       "    <tr>\n",
       "      <th>10</th>\n",
       "      <td>GABRIEL MARROCOS FONSECA</td>\n",
       "      <td>3.5</td>\n",
       "    </tr>\n",
       "    <tr>\n",
       "      <th>11</th>\n",
       "      <td>GUILHERME YURI TIMÓTEO PLÁCIDO</td>\n",
       "      <td>0</td>\n",
       "    </tr>\n",
       "    <tr>\n",
       "      <th>12</th>\n",
       "      <td>HEITOR DE CARVALHO BARBOSA CAMARGOS</td>\n",
       "      <td>2</td>\n",
       "    </tr>\n",
       "    <tr>\n",
       "      <th>13</th>\n",
       "      <td>HIKE PENEDO MENDES</td>\n",
       "      <td>0</td>\n",
       "    </tr>\n",
       "    <tr>\n",
       "      <th>14</th>\n",
       "      <td>Hugo Rodrigues</td>\n",
       "      <td>5</td>\n",
       "    </tr>\n",
       "    <tr>\n",
       "      <th>15</th>\n",
       "      <td>ISABELLA RODRIGUES OLIVEIRA DE SOUZA</td>\n",
       "      <td>0</td>\n",
       "    </tr>\n",
       "    <tr>\n",
       "      <th>16</th>\n",
       "      <td>JEAN CARLO DA SILVA SANTOS</td>\n",
       "      <td>7</td>\n",
       "    </tr>\n",
       "    <tr>\n",
       "      <th>17</th>\n",
       "      <td>Jurema</td>\n",
       "      <td>0</td>\n",
       "    </tr>\n",
       "    <tr>\n",
       "      <th>18</th>\n",
       "      <td>LEANDRO MATEUS MENDES</td>\n",
       "      <td>3</td>\n",
       "    </tr>\n",
       "    <tr>\n",
       "      <th>19</th>\n",
       "      <td>LUIZA MARQUES SILVA</td>\n",
       "      <td>5</td>\n",
       "    </tr>\n",
       "    <tr>\n",
       "      <th>20</th>\n",
       "      <td>LUÍS FILLIPE DIAS DE OLIVEIRA</td>\n",
       "      <td>4</td>\n",
       "    </tr>\n",
       "    <tr>\n",
       "      <th>21</th>\n",
       "      <td>MATEUS TERTULIANO LIMA</td>\n",
       "      <td>0</td>\n",
       "    </tr>\n",
       "    <tr>\n",
       "      <th>22</th>\n",
       "      <td>MATEUS VASCONCELOS RODRIGUES MENDES</td>\n",
       "      <td>0</td>\n",
       "    </tr>\n",
       "    <tr>\n",
       "      <th>23</th>\n",
       "      <td>NÍCOLAS EDUARDO FERNANDES GÓMEZ</td>\n",
       "      <td>1</td>\n",
       "    </tr>\n",
       "    <tr>\n",
       "      <th>24</th>\n",
       "      <td>OTAVIO COTA GOMES QUINTAO</td>\n",
       "      <td>0</td>\n",
       "    </tr>\n",
       "    <tr>\n",
       "      <th>25</th>\n",
       "      <td>PEDRO DAMASIO MOREIRA DIAS</td>\n",
       "      <td>3</td>\n",
       "    </tr>\n",
       "    <tr>\n",
       "      <th>26</th>\n",
       "      <td>PEDRO VIDAL SILVA</td>\n",
       "      <td>3.5</td>\n",
       "    </tr>\n",
       "    <tr>\n",
       "      <th>27</th>\n",
       "      <td>RAPHAEL EXPEDITO DAYRELL COMINI</td>\n",
       "      <td>0</td>\n",
       "    </tr>\n",
       "    <tr>\n",
       "      <th>28</th>\n",
       "      <td>SAMUEL MARQUES DE BRITTO</td>\n",
       "      <td>0</td>\n",
       "    </tr>\n",
       "    <tr>\n",
       "      <th>29</th>\n",
       "      <td>SAMUEL SOARES DOS SANTOS</td>\n",
       "      <td>5</td>\n",
       "    </tr>\n",
       "    <tr>\n",
       "      <th>30</th>\n",
       "      <td>SARA ESTER ALVES MOREIRA</td>\n",
       "      <td>0</td>\n",
       "    </tr>\n",
       "    <tr>\n",
       "      <th>31</th>\n",
       "      <td>THAUAN GUILHERME DE SOUZA ARAUJO</td>\n",
       "      <td>5</td>\n",
       "    </tr>\n",
       "    <tr>\n",
       "      <th>32</th>\n",
       "      <td>THIERS RUSSO RESENDE DO BOM CONSELHO</td>\n",
       "      <td>0</td>\n",
       "    </tr>\n",
       "    <tr>\n",
       "      <th>33</th>\n",
       "      <td>TIAGO PEREIRA DE ALMEIDA</td>\n",
       "      <td>0</td>\n",
       "    </tr>\n",
       "    <tr>\n",
       "      <th>34</th>\n",
       "      <td>TULIO ARAUJO GROSSI</td>\n",
       "      <td>0</td>\n",
       "    </tr>\n",
       "    <tr>\n",
       "      <th>35</th>\n",
       "      <td>VERÔNICA ALVES DE CARVALHO</td>\n",
       "      <td>1</td>\n",
       "    </tr>\n",
       "    <tr>\n",
       "      <th>36</th>\n",
       "      <td>VICTOR YURI ARAUJO CORREIA</td>\n",
       "      <td>3</td>\n",
       "    </tr>\n",
       "    <tr>\n",
       "      <th>37</th>\n",
       "      <td>WESLEY SAMUEL RODRIGUES BATISTA</td>\n",
       "      <td>0</td>\n",
       "    </tr>\n",
       "  </tbody>\n",
       "</table>\n",
       "</div>"
      ],
      "text/plain": [
       "                        student_fk__name complementar_grade\n",
       "0          ALICE SOARES ROSA VASCONCELOS                  0\n",
       "1                   ANA SOFIA DE MIRANDA                  3\n",
       "2                 ARTUR DIAS ALVES PIRES                2.5\n",
       "3            CAIO FILLIPE SOUZA DA SILVA                  2\n",
       "4                 CAROLINA MOREIRA BRAGA                  5\n",
       "5                    CESAR COSTA RIBEIRO                  0\n",
       "6                DANIEL HENRIQUE ANTUNES                  0\n",
       "7                   EDUARDO LOPES FIALHO                  3\n",
       "8        FRANCISCO MARTINS MENEZES MATOS                  4\n",
       "9                 GABRIEL CEZAR DEOLINDO                1.5\n",
       "10              GABRIEL MARROCOS FONSECA                3.5\n",
       "11        GUILHERME YURI TIMÓTEO PLÁCIDO                  0\n",
       "12   HEITOR DE CARVALHO BARBOSA CAMARGOS                  2\n",
       "13                    HIKE PENEDO MENDES                  0\n",
       "14                        Hugo Rodrigues                  5\n",
       "15  ISABELLA RODRIGUES OLIVEIRA DE SOUZA                  0\n",
       "16            JEAN CARLO DA SILVA SANTOS                  7\n",
       "17                                Jurema                  0\n",
       "18                 LEANDRO MATEUS MENDES                  3\n",
       "19                   LUIZA MARQUES SILVA                  5\n",
       "20         LUÍS FILLIPE DIAS DE OLIVEIRA                  4\n",
       "21                MATEUS TERTULIANO LIMA                  0\n",
       "22   MATEUS VASCONCELOS RODRIGUES MENDES                  0\n",
       "23       NÍCOLAS EDUARDO FERNANDES GÓMEZ                  1\n",
       "24             OTAVIO COTA GOMES QUINTAO                  0\n",
       "25            PEDRO DAMASIO MOREIRA DIAS                  3\n",
       "26                     PEDRO VIDAL SILVA                3.5\n",
       "27       RAPHAEL EXPEDITO DAYRELL COMINI                  0\n",
       "28              SAMUEL MARQUES DE BRITTO                  0\n",
       "29              SAMUEL SOARES DOS SANTOS                  5\n",
       "30              SARA ESTER ALVES MOREIRA                  0\n",
       "31      THAUAN GUILHERME DE SOUZA ARAUJO                  5\n",
       "32  THIERS RUSSO RESENDE DO BOM CONSELHO                  0\n",
       "33              TIAGO PEREIRA DE ALMEIDA                  0\n",
       "34                   TULIO ARAUJO GROSSI                  0\n",
       "35            VERÔNICA ALVES DE CARVALHO                  1\n",
       "36            VICTOR YURI ARAUJO CORREIA                  3\n",
       "37       WESLEY SAMUEL RODRIGUES BATISTA                  0"
      ]
     },
     "execution_count": 5,
     "metadata": {},
     "output_type": "execute_result"
    }
   ],
   "source": [
    "pd.DataFrame.from_dict(handins.values(\"student_fk__name\")\\\n",
    "                .order_by(\"student_fk__name\")\\\n",
    "                .annotate(complementar_grade = Sum('complementar_grade')))"
   ]
  },
  {
   "cell_type": "code",
   "execution_count": null,
   "id": "3bf66a0c",
   "metadata": {},
   "outputs": [],
   "source": [
    "#assignments per topic\n",
    "lst_assignments = Assignment.objects.filter(discipline_fk__code =  discipline_code)\\\n",
    "                                .filter(topic_fk__acronym = topic)\\\n",
    "                         .values(\"acronym\", \"name\", \n",
    "                                    \"deadline\", \"total_grade\")\n",
    "pd.DataFrame.from_dict(lst_assignments)"
   ]
  },
  {
   "cell_type": "code",
   "execution_count": null,
   "id": "3368cc91",
   "metadata": {},
   "outputs": [],
   "source": [
    "from classroom.models import *\n",
    "Student.objects.filter(name__startswith = \"Gui\").values()"
   ]
  },
  {
   "cell_type": "markdown",
   "id": "476d55d1",
   "metadata": {},
   "source": [
    "## Testes"
   ]
  },
  {
   "cell_type": "code",
   "execution_count": null,
   "id": "8b857ec8",
   "metadata": {},
   "outputs": [],
   "source": [
    "from classroom.scrapper.base import abre_chrome_github\n",
    "from selenium_utils.utils import *\n",
    "\n",
    "browser = abre_chrome_github()\n",
    "\n",
    "assignment = \"https://classroom.github.com/classrooms/150465862-inf-101-lab-programacao-web-2024/new_assignments/web-abelhas/settings\"\n",
    "open_new_page(assignment, browser)"
   ]
  },
  {
   "cell_type": "code",
   "execution_count": null,
   "id": "9773dad8",
   "metadata": {},
   "outputs": [],
   "source": [
    "deadline_el = browser.find_element(By.ID, \"assignment_deadline_deadline_at\")"
   ]
  },
  {
   "cell_type": "code",
   "execution_count": null,
   "id": "0baca507",
   "metadata": {},
   "outputs": [],
   "source": [
    "deadline_el.send_keys(\"12122022\")"
   ]
  },
  {
   "cell_type": "code",
   "execution_count": null,
   "id": "6793a8ca",
   "metadata": {},
   "outputs": [],
   "source": [
    "from selenium.webdriver.common.keys import Keys\n",
    "\n",
    "deadline_el.send_keys(\"12122022\")\n",
    "deadline_el.send_keys(Keys.RIGHT)\n",
    "deadline_el.send_keys(\"1159P\")\n"
   ]
  }
 ],
 "metadata": {
  "kernelspec": {
   "display_name": "Python 3 (ipykernel)",
   "language": "python",
   "name": "python3"
  },
  "language_info": {
   "codemirror_mode": {
    "name": "ipython",
    "version": 3
   },
   "file_extension": ".py",
   "mimetype": "text/x-python",
   "name": "python",
   "nbconvert_exporter": "python",
   "pygments_lexer": "ipython3",
   "version": "3.11.9"
  }
 },
 "nbformat": 4,
 "nbformat_minor": 5
}
