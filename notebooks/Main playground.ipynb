{
 "cells": [
  {
   "cell_type": "code",
   "execution_count": 1,
   "id": "2f44d8a6",
   "metadata": {},
   "outputs": [],
   "source": [
    "import sys\n",
    "\n",
    "import sys\n",
    "def restart_django():\n",
    "    import os\n",
    "    import sys\n",
    "    import django\n",
    "    #define a raiz do projeto par aser possivel importar os modulos\n",
    "    sys.path.append(\"../src\")\n",
    "\n",
    "    #configura o ambiente\n",
    "    os.environ.setdefault(\"DJANGO_SETTINGS_MODULE\", \"github_classroom.settings\")\n",
    "    os.environ[\"DJANGO_ALLOW_ASYNC_UNSAFE\"] = \"true\"\n",
    "    django.setup()\n",
    "restart_django()"
   ]
  },
  {
   "cell_type": "markdown",
   "id": "3f7882ed",
   "metadata": {},
   "source": [
    "## Avalia/salva notas dos alunos"
   ]
  },
  {
   "cell_type": "code",
   "execution_count": 2,
   "id": "b29bee70",
   "metadata": {
    "scrolled": true
   },
   "outputs": [
    {
     "ename": "AttributeError",
     "evalue": "'str' object has no attribute 'get'",
     "output_type": "error",
     "traceback": [
      "\u001b[0;31m---------------------------------------------------------------------------\u001b[0m",
      "\u001b[0;31mAttributeError\u001b[0m                            Traceback (most recent call last)",
      "Cell \u001b[0;32mIn[2], line 2\u001b[0m\n\u001b[1;32m      1\u001b[0m \u001b[38;5;28;01mfrom\u001b[39;00m \u001b[38;5;21;01mclassroom\u001b[39;00m\u001b[38;5;21;01m.\u001b[39;00m\u001b[38;5;21;01mscrapper\u001b[39;00m\u001b[38;5;21;01m.\u001b[39;00m\u001b[38;5;21;01mgithub_classroom\u001b[39;00m\u001b[38;5;21;01m.\u001b[39;00m\u001b[38;5;21;01mcontroller\u001b[39;00m \u001b[38;5;28;01mimport\u001b[39;00m update_grades\n\u001b[0;32m----> 2\u001b[0m \u001b[43mupdate_grades\u001b[49m\u001b[43m(\u001b[49m\u001b[38;5;124;43m\"\u001b[39;49m\u001b[38;5;124;43mDECOM.199\u001b[39;49m\u001b[38;5;124;43m\"\u001b[39;49m\u001b[43m,\u001b[49m\u001b[43m \u001b[49m\u001b[38;5;124;43m\"\u001b[39;49m\u001b[38;5;124;43mjs0\u001b[39;49m\u001b[38;5;124;43m\"\u001b[39;49m\u001b[43m)\u001b[49m\n",
      "File \u001b[0;32m~/git/gitclassroom_utils/notebooks/../src/classroom/scrapper/github_classroom/controller.py:19\u001b[0m, in \u001b[0;36mupdate_grades\u001b[0;34m(class_code, assignment_acronym)\u001b[0m\n\u001b[1;32m     17\u001b[0m \u001b[38;5;28;01mdef\u001b[39;00m \u001b[38;5;21mupdate_grades\u001b[39m(class_code, assignment_acronym):\n\u001b[1;32m     18\u001b[0m     browser \u001b[38;5;241m=\u001b[39m abre_chrome_github()\n\u001b[0;32m---> 19\u001b[0m     \u001b[43meval_student\u001b[49m\u001b[43m(\u001b[49m\u001b[43mbrowser\u001b[49m\u001b[43m,\u001b[49m\u001b[43m \u001b[49m\u001b[43mclass_code\u001b[49m\u001b[43m,\u001b[49m\u001b[43m \u001b[49m\u001b[43massignment_acronym\u001b[49m\u001b[43m)\u001b[49m\n",
      "File \u001b[0;32m~/git/gitclassroom_utils/notebooks/../src/classroom/scrapper/github_classroom/persist_student_data.py:13\u001b[0m, in \u001b[0;36meval_student\u001b[0;34m(browser, class_code, assignment_acronym)\u001b[0m\n\u001b[1;32m      8\u001b[0m obj_assignment \u001b[38;5;241m=\u001b[39m Assignment\u001b[38;5;241m.\u001b[39mobjects\u001b[38;5;241m.\u001b[39mget(discipline_fk__code__iexact \u001b[38;5;241m=\u001b[39m class_code,\n\u001b[1;32m      9\u001b[0m                             acronym__iexact \u001b[38;5;241m=\u001b[39m assignment_acronym)\n\u001b[1;32m     10\u001b[0m open_new_page(obj_assignment\u001b[38;5;241m.\u001b[39massignment_url, browser)\n\u001b[0;32m---> 13\u001b[0m \u001b[43m\u001b[49m\u001b[38;5;28;43;01mfor\u001b[39;49;00m\u001b[43m \u001b[49m\u001b[43mstudent_data\u001b[49m\u001b[43m \u001b[49m\u001b[38;5;129;43;01min\u001b[39;49;00m\u001b[43m \u001b[49m\u001b[43meval_students_assignment\u001b[49m\u001b[43m(\u001b[49m\u001b[43mbrowser\u001b[49m\u001b[43m,\u001b[49m\u001b[43m \u001b[49m\u001b[43mobj_assignment\u001b[49m\u001b[38;5;241;43m.\u001b[39;49m\u001b[43mtotal_grade\u001b[49m\u001b[43m)\u001b[49m\u001b[43m:\u001b[49m\n\u001b[1;32m     14\u001b[0m \u001b[43m    \u001b[49m\u001b[43mstudent\u001b[49m\u001b[43m,\u001b[49m\u001b[43m_\u001b[49m\u001b[43m \u001b[49m\u001b[38;5;241;43m=\u001b[39;49m\u001b[43m \u001b[49m\u001b[43mStudent\u001b[49m\u001b[38;5;241;43m.\u001b[39;49m\u001b[43mobjects\u001b[49m\u001b[38;5;241;43m.\u001b[39;49m\u001b[43mget_or_create\u001b[49m\u001b[43m(\u001b[49m\u001b[43mclass_id\u001b[49m\u001b[43m \u001b[49m\u001b[38;5;241;43m=\u001b[39;49m\u001b[43m \u001b[49m\u001b[43mstudent_data\u001b[49m\u001b[43m[\u001b[49m\u001b[38;5;124;43m\"\u001b[39;49m\u001b[38;5;124;43mid\u001b[39;49m\u001b[38;5;124;43m\"\u001b[39;49m\u001b[43m]\u001b[49m\u001b[43m,\u001b[49m\n\u001b[1;32m     15\u001b[0m \u001b[43m                                    \u001b[49m\u001b[43mdefaults\u001b[49m\u001b[38;5;241;43m=\u001b[39;49m\u001b[43m{\u001b[49m\u001b[38;5;124;43m\"\u001b[39;49m\u001b[38;5;124;43mname\u001b[39;49m\u001b[38;5;124;43m\"\u001b[39;49m\u001b[43m:\u001b[49m\u001b[43mstudent_data\u001b[49m\u001b[43m[\u001b[49m\u001b[38;5;124;43m\"\u001b[39;49m\u001b[38;5;124;43mname\u001b[39;49m\u001b[38;5;124;43m\"\u001b[39;49m\u001b[43m]\u001b[49m\u001b[43m}\u001b[49m\u001b[43m)\u001b[49m\n\u001b[1;32m     16\u001b[0m \u001b[43m    \u001b[49m\u001b[43mhandin\u001b[49m\u001b[43m,\u001b[49m\u001b[43m_\u001b[49m\u001b[43m \u001b[49m\u001b[38;5;241;43m=\u001b[39;49m\u001b[43m \u001b[49m\u001b[43mHandin\u001b[49m\u001b[38;5;241;43m.\u001b[39;49m\u001b[43mobjects\u001b[49m\u001b[38;5;241;43m.\u001b[39;49m\u001b[43mget_or_create\u001b[49m\u001b[43m(\u001b[49m\u001b[43massignment_fk\u001b[49m\u001b[38;5;241;43m=\u001b[39;49m\u001b[43mobj_assignment\u001b[49m\u001b[43m,\u001b[49m\n\u001b[1;32m     17\u001b[0m \u001b[43m                                \u001b[49m\u001b[43mstudent_fk\u001b[49m\u001b[38;5;241;43m=\u001b[39;49m\u001b[43mstudent\u001b[49m\u001b[43m)\u001b[49m\n",
      "File \u001b[0;32m~/git/gitclassroom_utils/notebooks/../src/classroom/scrapper/github_classroom/student_eval.py:184\u001b[0m, in \u001b[0;36meval_students_assignment\u001b[0;34m(browser, total_grade)\u001b[0m\n\u001b[1;32m    182\u001b[0m student \u001b[38;5;241m=\u001b[39m arr_students[pos_student]\n\u001b[1;32m    183\u001b[0m open_new_page(student[\u001b[38;5;124m\"\u001b[39m\u001b[38;5;124mfeedback_url\u001b[39m\u001b[38;5;124m\"\u001b[39m], browser)\n\u001b[0;32m--> 184\u001b[0m git_app \u001b[38;5;241m=\u001b[39m \u001b[43mbrowse_student_assignment\u001b[49m\u001b[43m(\u001b[49m\u001b[43mbrowser\u001b[49m\u001b[43m,\u001b[49m\u001b[43m \u001b[49m\u001b[43mchanges_tab\u001b[49m\u001b[43m,\u001b[49m\u001b[43m \u001b[49m\u001b[43mview_tab\u001b[49m\u001b[43m,\u001b[49m\u001b[43m \u001b[49m\u001b[43mgit_app\u001b[49m\u001b[43m)\u001b[49m\n\u001b[1;32m    186\u001b[0m student[\u001b[38;5;124m\"\u001b[39m\u001b[38;5;124mfeedback_url\u001b[39m\u001b[38;5;124m\"\u001b[39m] \u001b[38;5;241m=\u001b[39m browser\u001b[38;5;241m.\u001b[39mcurrent_url \n\u001b[1;32m    187\u001b[0m pos_student_per_feedback_url[browser\u001b[38;5;241m.\u001b[39mcurrent_url] \u001b[38;5;241m=\u001b[39m pos_student\n",
      "File \u001b[0;32m~/git/gitclassroom_utils/notebooks/../src/classroom/scrapper/github_classroom/student_eval.py:103\u001b[0m, in \u001b[0;36mbrowse_student_assignment\u001b[0;34m(browser, change_tab, views_tab, git_app)\u001b[0m\n\u001b[1;32m     99\u001b[0m feedback_tab \u001b[38;5;241m=\u001b[39m browser\u001b[38;5;241m.\u001b[39mcurrent_window_handle\n\u001b[1;32m    102\u001b[0m \u001b[38;5;66;03m#browser.switch_to.window(change_tab)\u001b[39;00m\n\u001b[0;32m--> 103\u001b[0m \u001b[43mchange_tab\u001b[49m\u001b[38;5;241;43m.\u001b[39;49m\u001b[43mget\u001b[49m(feedback_url\u001b[38;5;241m+\u001b[39m\u001b[38;5;124m\"\u001b[39m\u001b[38;5;124m/files\u001b[39m\u001b[38;5;124m\"\u001b[39m)\n\u001b[1;32m    105\u001b[0m \u001b[38;5;66;03m#browser.switch_to.window(views_tab)\u001b[39;00m\n\u001b[1;32m    106\u001b[0m views_tab\u001b[38;5;241m.\u001b[39mget(github_view_url)\n",
      "\u001b[0;31mAttributeError\u001b[0m: 'str' object has no attribute 'get'"
     ]
    }
   ],
   "source": [
    "from classroom.scrapper.github_classroom.controller import update_grades\n",
    "update_grades(\"DECOM.199\", \"js0\")"
   ]
  },
  {
   "cell_type": "code",
   "execution_count": 3,
   "id": "06d6fa63",
   "metadata": {},
   "outputs": [
    {
     "name": "stderr",
     "output_type": "stream",
     "text": [
      "Watching for file changes with StatReloader\n",
      "[29/Dec/2023 21:13:37] \"GET / HTTP/1.1\" 200 3350\n",
      "[29/Dec/2023 21:13:37] \"GET /static/imgs/edit.png HTTP/1.1\" 200 674\n",
      "[29/Dec/2023 21:13:37] \"GET /static/estilos.css HTTP/1.1\" 200 2217\n",
      "[29/Dec/2023 21:13:37] \"GET /static/calice.ico HTTP/1.1\" 200 4286\n"
     ]
    }
   ],
   "source": [
    "from classroom.scrapper.github_classroom.controller import update_grades\n",
    "import os \n",
    "\n",
    "del os.environ['DJANGO_SETTINGS_MODULE']\n",
    "update_grades(\"INF.101\", \"toy\")"
   ]
  },
  {
   "cell_type": "markdown",
   "id": "b77f6d30",
   "metadata": {},
   "source": [
    "## Lança notas persistidas no SIGAA"
   ]
  },
  {
   "cell_type": "code",
   "execution_count": null,
   "id": "d6eb753b",
   "metadata": {},
   "outputs": [],
   "source": [
    "from classroom.scrapper.sigaa.controller import update_grades as update_grades_sigaa\n",
    "update_grades_sigaa()\n"
   ]
  },
  {
   "cell_type": "markdown",
   "id": "9aa99634",
   "metadata": {},
   "source": [
    "## Salva tarefas do Github Classroom"
   ]
  },
  {
   "cell_type": "code",
   "execution_count": 6,
   "id": "8c748578",
   "metadata": {
    "scrolled": false
   },
   "outputs": [
    {
     "name": "stdout",
     "output_type": "stream",
     "text": [
      "[INF.101] Lab Programação Web 2024 https://classroom.github.com/classrooms/150465862-inf-101-lab-programacao-web-2024\n",
      "[1B-carn] Plantas Carnivoras (3p): https://classroom.github.com/classrooms/150465862-inf-101-lab-programacao-web-2024/assignments/1b-carn-plantas-carnivoras-3p\n",
      "-----------------\n",
      "[1B-toy] Django Toy Example (3p): https://classroom.github.com/classrooms/150465862-inf-101-lab-programacao-web-2024/assignments/toy-example\n",
      "-----------------\n",
      "[DECOM.199] Prog. Web 2024/1 https://classroom.github.com/classrooms/150465862-decom-199-prog-web-2024-1\n",
      "[1B-carn] Plantas Carnivoras (3p): https://classroom.github.com/classrooms/150465862-decom-199-prog-web-2024-1/assignments/1b-carn-plantas-carnivoras-3p\n",
      "-----------------\n",
      "[1B-js0] Aula de JS0 (3p): https://classroom.github.com/classrooms/150465862-decom-199-prog-web-2024-1/assignments/js0\n",
      "-----------------\n",
      "[2B-a] aaaa (2p): https://classroom.github.com/classrooms/150465862-decom-199-prog-web-2024-1/assignments/2b-a-aaaa-2p\n",
      "-----------------\n",
      "[2B-tst] Testest (2p): https://classroom.github.com/classrooms/150465862-decom-199-prog-web-2024-1/assignments/2b-tst-testest-2p\n",
      "-----------------\n"
     ]
    }
   ],
   "source": [
    "from classroom.scrapper.github_classroom.controller import update_tasks\n",
    "update_tasks()"
   ]
  },
  {
   "cell_type": "markdown",
   "id": "3e18a632",
   "metadata": {},
   "source": [
    "## Salva tarefas persistidas no SIGAA"
   ]
  },
  {
   "cell_type": "code",
   "execution_count": null,
   "id": "76290ad2",
   "metadata": {
    "scrolled": true
   },
   "outputs": [],
   "source": [
    "from classroom.scrapper.sigaa.controller import update_tasks as update_tasks_sigaa\n",
    "update_tasks_sigaa()"
   ]
  }
 ],
 "metadata": {
  "kernelspec": {
   "display_name": "Python 3 (ipykernel)",
   "language": "python",
   "name": "python3"
  },
  "language_info": {
   "codemirror_mode": {
    "name": "ipython",
    "version": 3
   },
   "file_extension": ".py",
   "mimetype": "text/x-python",
   "name": "python",
   "nbconvert_exporter": "python",
   "pygments_lexer": "ipython3",
   "version": "3.11.7"
  }
 },
 "nbformat": 4,
 "nbformat_minor": 5
}
