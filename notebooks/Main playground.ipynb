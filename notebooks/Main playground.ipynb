{
 "cells": [
  {
   "cell_type": "code",
   "execution_count": 1,
   "id": "c9137601",
   "metadata": {},
   "outputs": [],
   "source": [
    "import sys\n",
    "\n",
    "import sys\n",
    "def restart_django():\n",
    "    import os\n",
    "    import sys\n",
    "    import django\n",
    "    #define a raiz do projeto par aser possivel importar os modulos\n",
    "    sys.path.append(\"../src\")\n",
    "\n",
    "    #configura o ambiente\n",
    "    os.environ.setdefault(\"DJANGO_SETTINGS_MODULE\", \"github_classroom.settings\")\n",
    "    os.environ[\"DJANGO_ALLOW_ASYNC_UNSAFE\"] = \"true\"\n",
    "    django.setup()\n",
    "restart_django()"
   ]
  },
  {
   "cell_type": "markdown",
   "id": "26fd4f82",
   "metadata": {},
   "source": [
    "## Avalia/salva notas dos alunos"
   ]
  },
  {
   "cell_type": "code",
   "execution_count": 3,
   "id": "6f4996eb",
   "metadata": {
    "scrolled": true
   },
   "outputs": [
    {
     "ename": "SessionNotCreatedException",
     "evalue": "Message: session not created: Chrome failed to start: exited normally.\n  (session not created: DevToolsActivePort file doesn't exist)\n  (The process started from chrome location /opt/google/chrome/chrome is no longer running, so ChromeDriver is assuming that Chrome has crashed.)\nStacktrace:\n#0 0x55d0a98418a3 <unknown>\n#1 0x55d0a95378c6 <unknown>\n#2 0x55d0a956bd34 <unknown>\n#3 0x55d0a9567d3d <unknown>\n#4 0x55d0a95b0aed <unknown>\n#5 0x55d0a95a4343 <unknown>\n#6 0x55d0a9575593 <unknown>\n#7 0x55d0a9575f5e <unknown>\n#8 0x55d0a980588b <unknown>\n#9 0x55d0a98097e5 <unknown>\n#10 0x55d0a97f35b1 <unknown>\n#11 0x55d0a980a372 <unknown>\n#12 0x55d0a97d88bf <unknown>\n#13 0x55d0a9830768 <unknown>\n#14 0x55d0a983093b <unknown>\n#15 0x55d0a98409f4 <unknown>\n#16 0x7fbb401f4609 start_thread\n",
     "output_type": "error",
     "traceback": [
      "\u001b[0;31m---------------------------------------------------------------------------\u001b[0m",
      "\u001b[0;31mSessionNotCreatedException\u001b[0m                Traceback (most recent call last)",
      "Cell \u001b[0;32mIn[3], line 5\u001b[0m\n\u001b[1;32m      2\u001b[0m webgrad \u001b[38;5;241m=\u001b[39m \u001b[38;5;124m\"\u001b[39m\u001b[38;5;124mDECOM.199\u001b[39m\u001b[38;5;124m\"\u001b[39m\n\u001b[1;32m      4\u001b[0m \u001b[38;5;28;01mfrom\u001b[39;00m \u001b[38;5;21;01mclassroom\u001b[39;00m\u001b[38;5;21;01m.\u001b[39;00m\u001b[38;5;21;01mscrapper\u001b[39;00m\u001b[38;5;21;01m.\u001b[39;00m\u001b[38;5;21;01mgithub_classroom\u001b[39;00m\u001b[38;5;21;01m.\u001b[39;00m\u001b[38;5;21;01mcontroller\u001b[39;00m \u001b[38;5;28;01mimport\u001b[39;00m update_grades\n\u001b[0;32m----> 5\u001b[0m \u001b[43mupdate_grades\u001b[49m\u001b[43m(\u001b[49m\u001b[43mlpw\u001b[49m\u001b[43m,\u001b[49m\u001b[43m \u001b[49m\u001b[38;5;124;43m\"\u001b[39;49m\u001b[38;5;124;43mcarn\u001b[39;49m\u001b[38;5;124;43m\"\u001b[39;49m\u001b[43m)\u001b[49m\n",
      "File \u001b[0;32m~/git/gitclassroom_utils/notebooks/../src/classroom/scrapper/github_classroom/controller.py:23\u001b[0m, in \u001b[0;36mupdate_grades\u001b[0;34m(class_code, assignment_acronym)\u001b[0m\n\u001b[1;32m     22\u001b[0m \u001b[38;5;28;01mdef\u001b[39;00m \u001b[38;5;21mupdate_grades\u001b[39m(class_code, assignment_acronym):\n\u001b[0;32m---> 23\u001b[0m     browser \u001b[38;5;241m=\u001b[39m \u001b[43mabre_chrome_github\u001b[49m\u001b[43m(\u001b[49m\u001b[43m)\u001b[49m\n\u001b[1;32m     24\u001b[0m     eval_student(browser, class_code, assignment_acronym)\n",
      "File \u001b[0;32m~/git/gitclassroom_utils/notebooks/../src/classroom/scrapper/base.py:29\u001b[0m, in \u001b[0;36mabre_chrome_github\u001b[0;34m()\u001b[0m\n\u001b[1;32m     25\u001b[0m \u001b[38;5;28;01mfor\u001b[39;00m option \u001b[38;5;129;01min\u001b[39;00m options:\n\u001b[1;32m     26\u001b[0m     chrome_options\u001b[38;5;241m.\u001b[39madd_argument(option)\n\u001b[0;32m---> 29\u001b[0m \u001b[38;5;28;01mreturn\u001b[39;00m \u001b[43mwebdriver\u001b[49m\u001b[38;5;241;43m.\u001b[39;49m\u001b[43mChrome\u001b[49m\u001b[43m(\u001b[49m\u001b[43mservice\u001b[49m\u001b[38;5;241;43m=\u001b[39;49m\u001b[43mchrome_service\u001b[49m\u001b[43m,\u001b[49m\u001b[43m \u001b[49m\u001b[43moptions\u001b[49m\u001b[38;5;241;43m=\u001b[39;49m\u001b[43mchrome_options\u001b[49m\u001b[43m)\u001b[49m\n",
      "File \u001b[0;32m~/.local/lib/python3.11/site-packages/selenium/webdriver/chrome/webdriver.py:45\u001b[0m, in \u001b[0;36mWebDriver.__init__\u001b[0;34m(self, options, service, keep_alive)\u001b[0m\n\u001b[1;32m     42\u001b[0m service \u001b[38;5;241m=\u001b[39m service \u001b[38;5;28;01mif\u001b[39;00m service \u001b[38;5;28;01melse\u001b[39;00m Service()\n\u001b[1;32m     43\u001b[0m options \u001b[38;5;241m=\u001b[39m options \u001b[38;5;28;01mif\u001b[39;00m options \u001b[38;5;28;01melse\u001b[39;00m Options()\n\u001b[0;32m---> 45\u001b[0m \u001b[38;5;28;43msuper\u001b[39;49m\u001b[43m(\u001b[49m\u001b[43m)\u001b[49m\u001b[38;5;241;43m.\u001b[39;49m\u001b[38;5;21;43m__init__\u001b[39;49m\u001b[43m(\u001b[49m\n\u001b[1;32m     46\u001b[0m \u001b[43m    \u001b[49m\u001b[43mbrowser_name\u001b[49m\u001b[38;5;241;43m=\u001b[39;49m\u001b[43mDesiredCapabilities\u001b[49m\u001b[38;5;241;43m.\u001b[39;49m\u001b[43mCHROME\u001b[49m\u001b[43m[\u001b[49m\u001b[38;5;124;43m\"\u001b[39;49m\u001b[38;5;124;43mbrowserName\u001b[39;49m\u001b[38;5;124;43m\"\u001b[39;49m\u001b[43m]\u001b[49m\u001b[43m,\u001b[49m\n\u001b[1;32m     47\u001b[0m \u001b[43m    \u001b[49m\u001b[43mvendor_prefix\u001b[49m\u001b[38;5;241;43m=\u001b[39;49m\u001b[38;5;124;43m\"\u001b[39;49m\u001b[38;5;124;43mgoog\u001b[39;49m\u001b[38;5;124;43m\"\u001b[39;49m\u001b[43m,\u001b[49m\n\u001b[1;32m     48\u001b[0m \u001b[43m    \u001b[49m\u001b[43moptions\u001b[49m\u001b[38;5;241;43m=\u001b[39;49m\u001b[43moptions\u001b[49m\u001b[43m,\u001b[49m\n\u001b[1;32m     49\u001b[0m \u001b[43m    \u001b[49m\u001b[43mservice\u001b[49m\u001b[38;5;241;43m=\u001b[39;49m\u001b[43mservice\u001b[49m\u001b[43m,\u001b[49m\n\u001b[1;32m     50\u001b[0m \u001b[43m    \u001b[49m\u001b[43mkeep_alive\u001b[49m\u001b[38;5;241;43m=\u001b[39;49m\u001b[43mkeep_alive\u001b[49m\u001b[43m,\u001b[49m\n\u001b[1;32m     51\u001b[0m \u001b[43m\u001b[49m\u001b[43m)\u001b[49m\n",
      "File \u001b[0;32m~/.local/lib/python3.11/site-packages/selenium/webdriver/chromium/webdriver.py:61\u001b[0m, in \u001b[0;36mChromiumDriver.__init__\u001b[0;34m(self, browser_name, vendor_prefix, options, service, keep_alive)\u001b[0m\n\u001b[1;32m     52\u001b[0m executor \u001b[38;5;241m=\u001b[39m ChromiumRemoteConnection(\n\u001b[1;32m     53\u001b[0m     remote_server_addr\u001b[38;5;241m=\u001b[39m\u001b[38;5;28mself\u001b[39m\u001b[38;5;241m.\u001b[39mservice\u001b[38;5;241m.\u001b[39mservice_url,\n\u001b[1;32m     54\u001b[0m     browser_name\u001b[38;5;241m=\u001b[39mbrowser_name,\n\u001b[0;32m   (...)\u001b[0m\n\u001b[1;32m     57\u001b[0m     ignore_proxy\u001b[38;5;241m=\u001b[39moptions\u001b[38;5;241m.\u001b[39m_ignore_local_proxy,\n\u001b[1;32m     58\u001b[0m )\n\u001b[1;32m     60\u001b[0m \u001b[38;5;28;01mtry\u001b[39;00m:\n\u001b[0;32m---> 61\u001b[0m     \u001b[38;5;28;43msuper\u001b[39;49m\u001b[43m(\u001b[49m\u001b[43m)\u001b[49m\u001b[38;5;241;43m.\u001b[39;49m\u001b[38;5;21;43m__init__\u001b[39;49m\u001b[43m(\u001b[49m\u001b[43mcommand_executor\u001b[49m\u001b[38;5;241;43m=\u001b[39;49m\u001b[43mexecutor\u001b[49m\u001b[43m,\u001b[49m\u001b[43m \u001b[49m\u001b[43moptions\u001b[49m\u001b[38;5;241;43m=\u001b[39;49m\u001b[43moptions\u001b[49m\u001b[43m)\u001b[49m\n\u001b[1;32m     62\u001b[0m \u001b[38;5;28;01mexcept\u001b[39;00m \u001b[38;5;167;01mException\u001b[39;00m:\n\u001b[1;32m     63\u001b[0m     \u001b[38;5;28mself\u001b[39m\u001b[38;5;241m.\u001b[39mquit()\n",
      "File \u001b[0;32m~/.local/lib/python3.11/site-packages/selenium/webdriver/remote/webdriver.py:209\u001b[0m, in \u001b[0;36mWebDriver.__init__\u001b[0;34m(self, command_executor, keep_alive, file_detector, options)\u001b[0m\n\u001b[1;32m    207\u001b[0m \u001b[38;5;28mself\u001b[39m\u001b[38;5;241m.\u001b[39m_authenticator_id \u001b[38;5;241m=\u001b[39m \u001b[38;5;28;01mNone\u001b[39;00m\n\u001b[1;32m    208\u001b[0m \u001b[38;5;28mself\u001b[39m\u001b[38;5;241m.\u001b[39mstart_client()\n\u001b[0;32m--> 209\u001b[0m \u001b[38;5;28;43mself\u001b[39;49m\u001b[38;5;241;43m.\u001b[39;49m\u001b[43mstart_session\u001b[49m\u001b[43m(\u001b[49m\u001b[43mcapabilities\u001b[49m\u001b[43m)\u001b[49m\n",
      "File \u001b[0;32m~/.local/lib/python3.11/site-packages/selenium/webdriver/remote/webdriver.py:293\u001b[0m, in \u001b[0;36mWebDriver.start_session\u001b[0;34m(self, capabilities)\u001b[0m\n\u001b[1;32m    286\u001b[0m \u001b[38;5;250m\u001b[39m\u001b[38;5;124;03m\"\"\"Creates a new session with the desired capabilities.\u001b[39;00m\n\u001b[1;32m    287\u001b[0m \n\u001b[1;32m    288\u001b[0m \u001b[38;5;124;03m:Args:\u001b[39;00m\n\u001b[1;32m    289\u001b[0m \u001b[38;5;124;03m - capabilities - a capabilities dict to start the session with.\u001b[39;00m\n\u001b[1;32m    290\u001b[0m \u001b[38;5;124;03m\"\"\"\u001b[39;00m\n\u001b[1;32m    292\u001b[0m caps \u001b[38;5;241m=\u001b[39m _create_caps(capabilities)\n\u001b[0;32m--> 293\u001b[0m response \u001b[38;5;241m=\u001b[39m \u001b[38;5;28;43mself\u001b[39;49m\u001b[38;5;241;43m.\u001b[39;49m\u001b[43mexecute\u001b[49m\u001b[43m(\u001b[49m\u001b[43mCommand\u001b[49m\u001b[38;5;241;43m.\u001b[39;49m\u001b[43mNEW_SESSION\u001b[49m\u001b[43m,\u001b[49m\u001b[43m \u001b[49m\u001b[43mcaps\u001b[49m\u001b[43m)\u001b[49m[\u001b[38;5;124m\"\u001b[39m\u001b[38;5;124mvalue\u001b[39m\u001b[38;5;124m\"\u001b[39m]\n\u001b[1;32m    294\u001b[0m \u001b[38;5;28mself\u001b[39m\u001b[38;5;241m.\u001b[39msession_id \u001b[38;5;241m=\u001b[39m response\u001b[38;5;241m.\u001b[39mget(\u001b[38;5;124m\"\u001b[39m\u001b[38;5;124msessionId\u001b[39m\u001b[38;5;124m\"\u001b[39m)\n\u001b[1;32m    295\u001b[0m \u001b[38;5;28mself\u001b[39m\u001b[38;5;241m.\u001b[39mcaps \u001b[38;5;241m=\u001b[39m response\u001b[38;5;241m.\u001b[39mget(\u001b[38;5;124m\"\u001b[39m\u001b[38;5;124mcapabilities\u001b[39m\u001b[38;5;124m\"\u001b[39m)\n",
      "File \u001b[0;32m~/.local/lib/python3.11/site-packages/selenium/webdriver/remote/webdriver.py:348\u001b[0m, in \u001b[0;36mWebDriver.execute\u001b[0;34m(self, driver_command, params)\u001b[0m\n\u001b[1;32m    346\u001b[0m response \u001b[38;5;241m=\u001b[39m \u001b[38;5;28mself\u001b[39m\u001b[38;5;241m.\u001b[39mcommand_executor\u001b[38;5;241m.\u001b[39mexecute(driver_command, params)\n\u001b[1;32m    347\u001b[0m \u001b[38;5;28;01mif\u001b[39;00m response:\n\u001b[0;32m--> 348\u001b[0m     \u001b[38;5;28;43mself\u001b[39;49m\u001b[38;5;241;43m.\u001b[39;49m\u001b[43merror_handler\u001b[49m\u001b[38;5;241;43m.\u001b[39;49m\u001b[43mcheck_response\u001b[49m\u001b[43m(\u001b[49m\u001b[43mresponse\u001b[49m\u001b[43m)\u001b[49m\n\u001b[1;32m    349\u001b[0m     response[\u001b[38;5;124m\"\u001b[39m\u001b[38;5;124mvalue\u001b[39m\u001b[38;5;124m\"\u001b[39m] \u001b[38;5;241m=\u001b[39m \u001b[38;5;28mself\u001b[39m\u001b[38;5;241m.\u001b[39m_unwrap_value(response\u001b[38;5;241m.\u001b[39mget(\u001b[38;5;124m\"\u001b[39m\u001b[38;5;124mvalue\u001b[39m\u001b[38;5;124m\"\u001b[39m, \u001b[38;5;28;01mNone\u001b[39;00m))\n\u001b[1;32m    350\u001b[0m     \u001b[38;5;28;01mreturn\u001b[39;00m response\n",
      "File \u001b[0;32m~/.local/lib/python3.11/site-packages/selenium/webdriver/remote/errorhandler.py:229\u001b[0m, in \u001b[0;36mErrorHandler.check_response\u001b[0;34m(self, response)\u001b[0m\n\u001b[1;32m    227\u001b[0m         alert_text \u001b[38;5;241m=\u001b[39m value[\u001b[38;5;124m\"\u001b[39m\u001b[38;5;124malert\u001b[39m\u001b[38;5;124m\"\u001b[39m]\u001b[38;5;241m.\u001b[39mget(\u001b[38;5;124m\"\u001b[39m\u001b[38;5;124mtext\u001b[39m\u001b[38;5;124m\"\u001b[39m)\n\u001b[1;32m    228\u001b[0m     \u001b[38;5;28;01mraise\u001b[39;00m exception_class(message, screen, stacktrace, alert_text)  \u001b[38;5;66;03m# type: ignore[call-arg]  # mypy is not smart enough here\u001b[39;00m\n\u001b[0;32m--> 229\u001b[0m \u001b[38;5;28;01mraise\u001b[39;00m exception_class(message, screen, stacktrace)\n",
      "\u001b[0;31mSessionNotCreatedException\u001b[0m: Message: session not created: Chrome failed to start: exited normally.\n  (session not created: DevToolsActivePort file doesn't exist)\n  (The process started from chrome location /opt/google/chrome/chrome is no longer running, so ChromeDriver is assuming that Chrome has crashed.)\nStacktrace:\n#0 0x55d0a98418a3 <unknown>\n#1 0x55d0a95378c6 <unknown>\n#2 0x55d0a956bd34 <unknown>\n#3 0x55d0a9567d3d <unknown>\n#4 0x55d0a95b0aed <unknown>\n#5 0x55d0a95a4343 <unknown>\n#6 0x55d0a9575593 <unknown>\n#7 0x55d0a9575f5e <unknown>\n#8 0x55d0a980588b <unknown>\n#9 0x55d0a98097e5 <unknown>\n#10 0x55d0a97f35b1 <unknown>\n#11 0x55d0a980a372 <unknown>\n#12 0x55d0a97d88bf <unknown>\n#13 0x55d0a9830768 <unknown>\n#14 0x55d0a983093b <unknown>\n#15 0x55d0a98409f4 <unknown>\n#16 0x7fbb401f4609 start_thread\n"
     ]
    }
   ],
   "source": [
    "lpw = \"INF.101\"\n",
    "webgrad = \"DECOM.199\"\n",
    "\n",
    "from classroom.scrapper.github_classroom.controller import update_grades\n",
    "update_grades(lpw, \"carn\")"
   ]
  },
  {
   "cell_type": "code",
   "execution_count": null,
   "id": "05251a37",
   "metadata": {},
   "outputs": [],
   "source": [
    "from classroom.scrapper.github_classroom.controller import update_grades\n",
    "import os \n",
    "\n",
    "del os.environ['DJANGO_SETTINGS_MODULE']\n",
    "update_grades(\"INF.101\", \"toy\")"
   ]
  },
  {
   "cell_type": "markdown",
   "id": "237c13f1",
   "metadata": {},
   "source": [
    "## Lança notas persistidas no SIGAA"
   ]
  },
  {
   "cell_type": "code",
   "execution_count": null,
   "id": "9562eb85",
   "metadata": {},
   "outputs": [],
   "source": [
    "from classroom.scrapper.sigaa.controller import update_grades as update_grades_sigaa\n",
    "update_grades_sigaa()\n"
   ]
  },
  {
   "cell_type": "markdown",
   "id": "f1ce547d",
   "metadata": {},
   "source": [
    "## Salva tarefas do Github Classroom"
   ]
  },
  {
   "cell_type": "code",
   "execution_count": null,
   "id": "9d003b1a",
   "metadata": {},
   "outputs": [],
   "source": [
    "from classroom.scrapper.base import abre_chrome_github\n",
    "browser = abre_chrome_github()"
   ]
  },
  {
   "cell_type": "code",
   "execution_count": 2,
   "id": "13755148",
   "metadata": {
    "scrolled": true
   },
   "outputs": [
    {
     "name": "stdout",
     "output_type": "stream",
     "text": [
      "[DECOM.57] Prog. Web 2024/1 https://classroom.github.com/classrooms/150465862-decom-57-prog-web-2024-1\n",
      "Class link: https://classroom.github.com/classrooms/150465862-decom-57-prog-web-2024-1\n",
      "[HTML+CSS-nija] Ninjas (2p): https://classroom.github.com/classrooms/150465862-decom-57-prog-web-2024-1/assignments/web-ninjas\n",
      "-----------------\n",
      "[Django-band] Django Models - MyBand (3p): https://classroom.github.com/classrooms/150465862-decom-57-prog-web-2024-1/assignments/cefet-web-band\n",
      "-----------------\n",
      "[Django-gene] Django - Piratas Genéricos e Dinamicos (6p): https://classroom.github.com/classrooms/150465862-decom-57-prog-web-2024-1/assignments/cefet-web-pirates-django-generic\n",
      "-----------------\n",
      "[Django-py] Básico Python (3p): https://classroom.github.com/classrooms/150465862-decom-57-prog-web-2024-1/assignments/cefet-web-python\n",
      "-----------------\n",
      "[Django-temp] Django Templates - Exploração Espacial (3p): https://classroom.github.com/classrooms/150465862-decom-57-prog-web-2024-1/assignments/cefet-web-space-django\n",
      "-----------------\n",
      "[Django-view] Django VIews - Piratas Dinamicos (3p): https://classroom.github.com/classrooms/150465862-decom-57-prog-web-2024-1/assignments/cefet-web-pirates-django\n",
      "-----------------\n",
      "[GERAL-TP] Trabalho Prático Web: https://classroom.github.com/classrooms/150465862-decom-57-prog-web-2024-1/assignments/tp-web\n",
      "-----------------\n",
      "[HTML+CSS-asso] Assombrados - positioning (2p): https://classroom.github.com/classrooms/150465862-decom-57-prog-web-2024-1/assignments/cefet-web-assombrados\n",
      "-----------------\n",
      "[HTML+CSS-carn] Plantas Carnívoras (2p): https://classroom.github.com/classrooms/150465862-decom-57-prog-web-2024-1/assignments/web-plantas-carnivoras\n",
      "-----------------\n",
      "[HTML+CSS-cora] Coral 55 (2p): https://classroom.github.com/classrooms/150465862-decom-57-prog-web-2024-1/assignments/cefet-web-coral55\n",
      "-----------------\n",
      "[HTML+CSS-ovel] Ovelhas (1p): https://classroom.github.com/classrooms/150465862-decom-57-prog-web-2024-1/assignments/web-ovelha\n",
      "-----------------\n",
      "[HTML+CSS-unic] Unicórnios (2p): https://classroom.github.com/classrooms/150465862-decom-57-prog-web-2024-1/assignments/web-unicornioss\n",
      "-----------------\n",
      "[JS-avat] Avatar Creator (2p): https://classroom.github.com/classrooms/150465862-decom-57-prog-web-2024-1/assignments/cefet-web-avatar\n",
      "-----------------\n",
      "[JS-spac] Exploração Espacial (2p): https://classroom.github.com/classrooms/150465862-decom-57-prog-web-2024-1/assignments/cefet-web-space\n",
      "-----------------\n",
      "[JS-star] Starwars (2p): https://classroom.github.com/classrooms/150465862-decom-57-prog-web-2024-1/assignments/cefet-web-starwars\n",
      "-----------------\n"
     ]
    }
   ],
   "source": [
    "from classroom.scrapper.github_classroom.controller import update_tasks\n",
    "update_tasks(\"[DECOM.57]\")"
   ]
  },
  {
   "cell_type": "markdown",
   "id": "7a50ed03",
   "metadata": {},
   "source": [
    "## Notas atribuidas por tópico"
   ]
  },
  {
   "cell_type": "code",
   "execution_count": 4,
   "id": "b6a97704",
   "metadata": {},
   "outputs": [
    {
     "data": {
      "text/html": [
       "<div>\n",
       "<style scoped>\n",
       "    .dataframe tbody tr th:only-of-type {\n",
       "        vertical-align: middle;\n",
       "    }\n",
       "\n",
       "    .dataframe tbody tr th {\n",
       "        vertical-align: top;\n",
       "    }\n",
       "\n",
       "    .dataframe thead th {\n",
       "        text-align: right;\n",
       "    }\n",
       "</style>\n",
       "<table border=\"1\" class=\"dataframe\">\n",
       "  <thead>\n",
       "    <tr style=\"text-align: right;\">\n",
       "      <th></th>\n",
       "      <th>topico</th>\n",
       "      <th>nota</th>\n",
       "    </tr>\n",
       "  </thead>\n",
       "  <tbody>\n",
       "    <tr>\n",
       "      <th>0</th>\n",
       "      <td>Django</td>\n",
       "      <td>18</td>\n",
       "    </tr>\n",
       "    <tr>\n",
       "      <th>1</th>\n",
       "      <td>GERAL</td>\n",
       "      <td>None</td>\n",
       "    </tr>\n",
       "    <tr>\n",
       "      <th>2</th>\n",
       "      <td>HTML+CSS</td>\n",
       "      <td>11</td>\n",
       "    </tr>\n",
       "    <tr>\n",
       "      <th>3</th>\n",
       "      <td>JS</td>\n",
       "      <td>6</td>\n",
       "    </tr>\n",
       "  </tbody>\n",
       "</table>\n",
       "</div>"
      ],
      "text/plain": [
       "     topico  nota\n",
       "0    Django    18\n",
       "1     GERAL  None\n",
       "2  HTML+CSS    11\n",
       "3        JS     6"
      ]
     },
     "execution_count": 4,
     "metadata": {},
     "output_type": "execute_result"
    }
   ],
   "source": [
    "from classroom.models import *\n",
    "from django.db.models import Sum, F\n",
    "import pandas as pd\n",
    "\n",
    "disciplina = \"Prog. Web 2024/1\"\n",
    "grade_per_topic = Assignment.objects.filter(discipline_fk__name = disciplina)\\\n",
    "                .values(\"topic_fk__acronym\")\\\n",
    "                .annotate(topico=F('topic_fk__acronym'),\n",
    "                            nota=Sum(\"total_grade\"))\\\n",
    "            .values(\"topico\",\"nota\")\n",
    "                                                         \n",
    "pd.DataFrame.from_dict(grade_per_topic)"
   ]
  },
  {
   "cell_type": "markdown",
   "id": "253c7e70",
   "metadata": {},
   "source": [
    "## Salva tarefas persistidas no SIGAA"
   ]
  },
  {
   "cell_type": "code",
   "execution_count": 4,
   "id": "0568393d",
   "metadata": {
    "scrolled": false
   },
   "outputs": [
    {
     "name": "stdout",
     "output_type": "stream",
     "text": [
      "Aguardando...\n",
      "Aguardando...\n",
      "Aguardando...\n",
      "Aguardando...\n",
      "Aguardando...\n",
      "SIGAA DISCIPLINE: DECOM.57 - TÓPICOS ESPECIAIS EM ENGENHARIA DE SOFTWARE: PROGRAMAÇÃO PARA WEB - T01\n",
      "[DECOM.57] Prog. Web 2024/1\n",
      "achou! [BAND] 2024-05-27 18:59:00 2024-05-29 23:59:00+00:00\n",
      "Dead diferente, alterar\n",
      "achou! [GENE] 2024-07-17 21:59:00 2024-06-17 23:59:00+00:00\n",
      "Dead diferente, alterar\n",
      "achou! [PY] 2024-05-21 00:59:00 2024-05-22 23:59:00+00:00\n",
      "Dead diferente, alterar\n",
      "achou! [TEMP] 2024-06-05 15:59:00 2024-06-05 23:59:00+00:00\n",
      "Dead diferente, alterar\n",
      "achou! [VIEW] 2024-06-05 18:59:00 2024-06-10 23:59:00+00:00\n",
      "Dead diferente, alterar\n",
      "Criando novo... [TP]\n",
      "achou! [ASSO] 2024-04-15 18:59:00 2024-04-17 23:59:00+00:00\n",
      "Dead diferente, alterar\n",
      "achou! [CORA] 2024-04-22 15:59:00 2024-04-22 23:59:00+00:00\n",
      "Dead diferente, alterar\n",
      "achou! [UNIC] 2024-04-02 02:59:00 2024-04-02 02:59:00+00:00\n",
      "Dead diferente, alterar\n",
      "achou! [AVAT] 2024-05-22 15:59:00 2024-05-15 23:59:00+00:00\n",
      "Dead diferente, alterar\n",
      "achou! [SPAC] 2024-04-29 21:59:00 2024-04-29 23:59:00+00:00\n",
      "Dead diferente, alterar\n",
      "achou! [STAR] 2024-05-15 15:59:00 2024-05-06 23:59:00+00:00\n",
      "Dead diferente, alterar\n"
     ]
    }
   ],
   "source": [
    "from classroom.scrapper.sigaa.controller import update_tasks as update_tasks_sigaa\n",
    "disciplina = \"Prog. Web 2024/1\"\n",
    "update_tasks_sigaa(disciplina)"
   ]
  },
  {
   "cell_type": "code",
   "execution_count": 3,
   "id": "25884708",
   "metadata": {},
   "outputs": [
    {
     "data": {
      "text/plain": [
       "datetime.datetime(2024, 4, 1, 19, 18, 59, 670262)"
      ]
     },
     "execution_count": 3,
     "metadata": {},
     "output_type": "execute_result"
    }
   ],
   "source": [
    "from datetime import datetime\n",
    "datetime.now()"
   ]
  },
  {
   "cell_type": "markdown",
   "id": "8daa8f06",
   "metadata": {},
   "source": [
    "## Atualiza data das tarefas no GITHUB Classrrom"
   ]
  },
  {
   "cell_type": "code",
   "execution_count": 9,
   "id": "80948bd5",
   "metadata": {
    "scrolled": true
   },
   "outputs": [
    {
     "name": "stdout",
     "output_type": "stream",
     "text": [
      "Assignment bees atualizado data para: 2024-04-15 23:59:00+00:00\n",
      "Assignment corn atualizado data para: 2024-05-06 23:59:00+00:00\n",
      "Assignment pira atualizado data para: 2024-04-01 23:59:00+00:00\n",
      "Assignment mypg atualizado data para: 2024-04-08 23:59:00+00:00\n",
      "Assignment nija atualizado data para: 2024-04-22 23:59:00+00:00\n"
     ]
    }
   ],
   "source": [
    "from classroom.scrapper.github_classroom.controller import update_classroom_assignment_deadlines\n",
    "from datetime import datetime\n",
    "\n",
    "from_deadline = datetime.now()\n",
    "discipline_name = \"Lab Programação Web 2024\"\n",
    "\n",
    "update_classroom_assignment_deadlines(discipline_name, from_deadline)"
   ]
  },
  {
   "cell_type": "code",
   "execution_count": 8,
   "id": "2a928ad0",
   "metadata": {},
   "outputs": [
    {
     "data": {
      "text/plain": [
       "(1, {'classroom.Assignment': 1})"
      ]
     },
     "execution_count": 8,
     "metadata": {},
     "output_type": "execute_result"
    }
   ],
   "source": [
    "from classroom.models import *\n",
    "ninja = Assignment.objects.get(discipline_fk__name = \"Lab Programação Web 2024\", acronym = \"ninj\")\n",
    "ninja.delete()"
   ]
  },
  {
   "cell_type": "markdown",
   "id": "7175af33",
   "metadata": {},
   "source": [
    "## Testes"
   ]
  },
  {
   "cell_type": "code",
   "execution_count": 5,
   "id": "6efbd513",
   "metadata": {},
   "outputs": [],
   "source": [
    "from classroom.scrapper.base import abre_chrome_github\n",
    "from selenium_utils.utils import *\n",
    "\n",
    "browser = abre_chrome_github()\n",
    "\n",
    "assignment = \"https://classroom.github.com/classrooms/150465862-inf-101-lab-programacao-web-2024/new_assignments/web-abelhas/settings\"\n",
    "open_new_page(assignment, browser)"
   ]
  },
  {
   "cell_type": "code",
   "execution_count": 11,
   "id": "8a84b0a3",
   "metadata": {},
   "outputs": [],
   "source": [
    "deadline_el = browser.find_element(By.ID, \"assignment_deadline_deadline_at\")"
   ]
  },
  {
   "cell_type": "code",
   "execution_count": 17,
   "id": "2df666fe",
   "metadata": {},
   "outputs": [],
   "source": [
    "deadline_el.send_keys(\"12122022\")"
   ]
  },
  {
   "cell_type": "code",
   "execution_count": 20,
   "id": "965b44fd",
   "metadata": {},
   "outputs": [],
   "source": [
    "from selenium.webdriver.common.keys import Keys\n",
    "\n",
    "deadline_el.send_keys(\"12122022\")\n",
    "deadline_el.send_keys(Keys.RIGHT)\n",
    "deadline_el.send_keys(\"1159P\")\n"
   ]
  }
 ],
 "metadata": {
  "kernelspec": {
   "display_name": "Python 3 (ipykernel)",
   "language": "python",
   "name": "python3"
  },
  "language_info": {
   "codemirror_mode": {
    "name": "ipython",
    "version": 3
   },
   "file_extension": ".py",
   "mimetype": "text/x-python",
   "name": "python",
   "nbconvert_exporter": "python",
   "pygments_lexer": "ipython3",
   "version": "3.11.7"
  }
 },
 "nbformat": 4,
 "nbformat_minor": 5
}
