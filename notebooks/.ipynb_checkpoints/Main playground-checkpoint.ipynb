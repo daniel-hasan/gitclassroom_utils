{
 "cells": [
  {
   "cell_type": "code",
   "execution_count": 1,
   "id": "e5b48165",
   "metadata": {},
   "outputs": [],
   "source": [
    "import sys\n",
    "\n",
    "import sys\n",
    "def restart_django():\n",
    "    import os\n",
    "    import sys\n",
    "    import django\n",
    "    #define a raiz do projeto par aser possivel importar os modulos\n",
    "    sys.path.append(\"../src\")\n",
    "\n",
    "    #configura o ambiente\n",
    "    os.environ.setdefault(\"DJANGO_SETTINGS_MODULE\", \"github_classroom.settings\")\n",
    "    os.environ[\"DJANGO_ALLOW_ASYNC_UNSAFE\"] = \"true\"\n",
    "    django.setup()\n",
    "restart_django()"
   ]
  },
  {
   "cell_type": "markdown",
   "id": "b8376312",
   "metadata": {},
   "source": [
    "## Avalia/salva notas dos alunos"
   ]
  },
  {
   "cell_type": "code",
   "execution_count": null,
   "id": "8d0e68f3",
   "metadata": {
    "scrolled": true
   },
   "outputs": [],
   "source": [
    "from classroom.scrapper.github_classroom.controller import update_grades\n",
    "update_grades(\"DECOM.199\", \"js0\")"
   ]
  },
  {
   "cell_type": "code",
   "execution_count": null,
   "id": "b05e3259",
   "metadata": {},
   "outputs": [],
   "source": [
    "from classroom.scrapper.github_classroom.controller import update_grades\n",
    "import os \n",
    "\n",
    "del os.environ['DJANGO_SETTINGS_MODULE']\n",
    "update_grades(\"INF.101\", \"toy\")"
   ]
  },
  {
   "cell_type": "markdown",
   "id": "4b735867",
   "metadata": {},
   "source": [
    "## Lança notas persistidas no SIGAA"
   ]
  },
  {
   "cell_type": "code",
   "execution_count": null,
   "id": "daf20a9c",
   "metadata": {},
   "outputs": [],
   "source": [
    "from classroom.scrapper.sigaa.controller import update_grades as update_grades_sigaa\n",
    "update_grades_sigaa()\n"
   ]
  },
  {
   "cell_type": "markdown",
   "id": "b8bd147e",
   "metadata": {},
   "source": [
    "## Salva tarefas do Github Classroom"
   ]
  },
  {
   "cell_type": "code",
   "execution_count": null,
   "id": "e176e96e",
   "metadata": {},
   "outputs": [],
   "source": [
    "from classroom.scrapper.base import abre_chrome_github\n",
    "browser = abre_chrome_github()"
   ]
  },
  {
   "cell_type": "code",
   "execution_count": 4,
   "id": "187f6ae5",
   "metadata": {
    "scrolled": true
   },
   "outputs": [
    {
     "name": "stdout",
     "output_type": "stream",
     "text": [
      "[DECOM.57] Prog. Web 2024/1 https://classroom.github.com/classrooms/150465862-decom-57-prog-web-2024-1\n",
      "Class link: https://classroom.github.com/classrooms/150465862-decom-57-prog-web-2024-1\n",
      "[HTML+CSS-nija] Ninjas (2p): https://classroom.github.com/classrooms/150465862-decom-57-prog-web-2024-1/assignments/web-ninjas\n",
      "-----------------\n",
      "[Django-band] Django Models - MyBand (3p): https://classroom.github.com/classrooms/150465862-decom-57-prog-web-2024-1/assignments/cefet-web-band\n",
      "-----------------\n",
      "[Django-gene] Django - Piratas Genéricos e Dinamicos (3p): https://classroom.github.com/classrooms/150465862-decom-57-prog-web-2024-1/assignments/cefet-web-pirates-django-generic\n",
      "-----------------\n",
      "[Django-py] Básico Python (3p): https://classroom.github.com/classrooms/150465862-decom-57-prog-web-2024-1/assignments/cefet-web-python\n",
      "-----------------\n",
      "[Django-temp] Django Templates - Exploração Espacial (3p): https://classroom.github.com/classrooms/150465862-decom-57-prog-web-2024-1/assignments/cefet-web-space-django\n",
      "-----------------\n",
      "[Django-view] Django VIews - Piratas Dinamicos (3p): https://classroom.github.com/classrooms/150465862-decom-57-prog-web-2024-1/assignments/cefet-web-pirates-django\n",
      "-----------------\n",
      "[GERAL-TP] Trabalho Prático Web: https://classroom.github.com/classrooms/150465862-decom-57-prog-web-2024-1/assignments/tp-web\n",
      "-----------------\n",
      "[HTML+CSS-asso] Assombrados - positioning (2p): https://classroom.github.com/classrooms/150465862-decom-57-prog-web-2024-1/assignments/cefet-web-assombrados\n",
      "-----------------\n",
      "[HTML+CSS-carn] Plantas Carnívoras (2p): https://classroom.github.com/classrooms/150465862-decom-57-prog-web-2024-1/assignments/web-plantas-carnivoras\n",
      "-----------------\n",
      "[HTML+CSS-cora] Coral 55 (2p): https://classroom.github.com/classrooms/150465862-decom-57-prog-web-2024-1/assignments/cefet-web-coral55\n",
      "-----------------\n",
      "[HTML+CSS-ovel] Ovelhas (1p): https://classroom.github.com/classrooms/150465862-decom-57-prog-web-2024-1/assignments/web-ovelha\n",
      "-----------------\n",
      "[HTML+CSS-unic] Unicórnios (2p): https://classroom.github.com/classrooms/150465862-decom-57-prog-web-2024-1/assignments/web-unicornioss\n",
      "-----------------\n",
      "[JS-avat] Avatar Creator (2p): https://classroom.github.com/classrooms/150465862-decom-57-prog-web-2024-1/assignments/cefet-web-avatar\n",
      "-----------------\n",
      "[JS-spac] Exploração Espacial (2p): https://classroom.github.com/classrooms/150465862-decom-57-prog-web-2024-1/assignments/cefet-web-space\n",
      "-----------------\n",
      "[JS-star] Starwars (2p): https://classroom.github.com/classrooms/150465862-decom-57-prog-web-2024-1/assignments/cefet-web-starwars\n",
      "-----------------\n"
     ]
    }
   ],
   "source": [
    "from classroom.scrapper.github_classroom.controller import update_tasks\n",
    "update_tasks(\"[DECOM.57]\")"
   ]
  },
  {
   "cell_type": "markdown",
   "id": "bb864722",
   "metadata": {},
   "source": [
    "## Notas atribuidas por tópico"
   ]
  },
  {
   "cell_type": "code",
   "execution_count": 6,
   "id": "42e1c7a3",
   "metadata": {},
   "outputs": [
    {
     "data": {
      "text/plain": [
       "<QuerySet [<Assignment: Prog. Web 2024/1 [nija] Ninjas>, <Assignment: Prog. Web 2024/1 [band] Django Models - MyBand>, <Assignment: Prog. Web 2024/1 [gene] Django - Piratas Genéricos e Dinamicos>, <Assignment: Prog. Web 2024/1 [py] Básico Python>, <Assignment: Prog. Web 2024/1 [temp] Django Templates - Exploração Espacial>, <Assignment: Prog. Web 2024/1 [view] Django VIews - Piratas Dinamicos>, <Assignment: Prog. Web 2024/1 [TP] Trabalho Prático Web>, <Assignment: Prog. Web 2024/1 [asso] Assombrados - positioning>, <Assignment: Prog. Web 2024/1 [carn] Plantas Carnívoras>, <Assignment: Prog. Web 2024/1 [cora] Coral 55>, <Assignment: Prog. Web 2024/1 [ovel] Ovelhas>, <Assignment: Prog. Web 2024/1 [unic] Unicórnios>, <Assignment: Prog. Web 2024/1 [avat] Avatar Creator>, <Assignment: Prog. Web 2024/1 [spac] Exploração Espacial>, <Assignment: Prog. Web 2024/1 [star] Starwars>]>"
      ]
     },
     "execution_count": 6,
     "metadata": {},
     "output_type": "execute_result"
    }
   ],
   "source": [
    "from classroom.models import *\n",
    "disciplina = \"Prog. Web 2024/1\"\n",
    "Assignment.objects.filter(discipline_fk__name = disciplina)\n",
    "Tesouro.objects.values(\"nome\").annotate(Sum(\"quantidade\"))"
   ]
  },
  {
   "cell_type": "markdown",
   "id": "af69d791",
   "metadata": {},
   "source": [
    "## Salva tarefas persistidas no SIGAA"
   ]
  },
  {
   "cell_type": "code",
   "execution_count": 3,
   "id": "44afa0da",
   "metadata": {
    "scrolled": false
   },
   "outputs": [
    {
     "ename": "TypeError",
     "evalue": "update_tasks() takes 0 positional arguments but 1 was given",
     "output_type": "error",
     "traceback": [
      "\u001b[0;31m---------------------------------------------------------------------------\u001b[0m",
      "\u001b[0;31mTypeError\u001b[0m                                 Traceback (most recent call last)",
      "Cell \u001b[0;32mIn[3], line 2\u001b[0m\n\u001b[1;32m      1\u001b[0m \u001b[38;5;28;01mfrom\u001b[39;00m \u001b[38;5;21;01mclassroom\u001b[39;00m\u001b[38;5;21;01m.\u001b[39;00m\u001b[38;5;21;01mscrapper\u001b[39;00m\u001b[38;5;21;01m.\u001b[39;00m\u001b[38;5;21;01msigaa\u001b[39;00m\u001b[38;5;21;01m.\u001b[39;00m\u001b[38;5;21;01mcontroller\u001b[39;00m \u001b[38;5;28;01mimport\u001b[39;00m update_tasks \u001b[38;5;28;01mas\u001b[39;00m update_tasks_sigaa\n\u001b[0;32m----> 2\u001b[0m \u001b[43mupdate_tasks_sigaa\u001b[49m\u001b[43m(\u001b[49m\u001b[38;5;124;43m\"\u001b[39;49m\u001b[38;5;124;43m[INF.101]\u001b[39;49m\u001b[38;5;124;43m\"\u001b[39;49m\u001b[43m)\u001b[49m\n",
      "\u001b[0;31mTypeError\u001b[0m: update_tasks() takes 0 positional arguments but 1 was given"
     ]
    }
   ],
   "source": [
    "from classroom.scrapper.sigaa.controller import update_tasks as update_tasks_sigaa\n",
    "update_tasks_sigaa()"
   ]
  },
  {
   "cell_type": "markdown",
   "id": "37dc1a75",
   "metadata": {},
   "source": [
    "## Atualiza data das tarefas no GITHUB Classrrom"
   ]
  },
  {
   "cell_type": "code",
   "execution_count": 9,
   "id": "cced669b",
   "metadata": {
    "scrolled": true
   },
   "outputs": [
    {
     "name": "stdout",
     "output_type": "stream",
     "text": [
      "Assignment bees atualizado data para: 2024-04-15 23:59:00+00:00\n",
      "Assignment corn atualizado data para: 2024-05-06 23:59:00+00:00\n",
      "Assignment pira atualizado data para: 2024-04-01 23:59:00+00:00\n",
      "Assignment mypg atualizado data para: 2024-04-08 23:59:00+00:00\n",
      "Assignment nija atualizado data para: 2024-04-22 23:59:00+00:00\n"
     ]
    }
   ],
   "source": [
    "from classroom.scrapper.github_classroom.controller import update_classroom_assignment_deadlines\n",
    "from datetime import datetime\n",
    "\n",
    "from_deadline = datetime.now()\n",
    "discipline_name = \"Lab Programação Web 2024\"\n",
    "\n",
    "update_classroom_assignment_deadlines(discipline_name, from_deadline)"
   ]
  },
  {
   "cell_type": "code",
   "execution_count": 8,
   "id": "9ca094fa",
   "metadata": {},
   "outputs": [
    {
     "data": {
      "text/plain": [
       "(1, {'classroom.Assignment': 1})"
      ]
     },
     "execution_count": 8,
     "metadata": {},
     "output_type": "execute_result"
    }
   ],
   "source": [
    "from classroom.models import *\n",
    "ninja = Assignment.objects.get(discipline_fk__name = \"Lab Programação Web 2024\", acronym = \"ninj\")\n",
    "ninja.delete()"
   ]
  },
  {
   "cell_type": "markdown",
   "id": "cde544f8",
   "metadata": {},
   "source": [
    "## Testes"
   ]
  },
  {
   "cell_type": "code",
   "execution_count": 5,
   "id": "476de06c",
   "metadata": {},
   "outputs": [],
   "source": [
    "from classroom.scrapper.base import abre_chrome_github\n",
    "from selenium_utils.utils import *\n",
    "\n",
    "browser = abre_chrome_github()\n",
    "\n",
    "assignment = \"https://classroom.github.com/classrooms/150465862-inf-101-lab-programacao-web-2024/new_assignments/web-abelhas/settings\"\n",
    "open_new_page(assignment, browser)"
   ]
  },
  {
   "cell_type": "code",
   "execution_count": 11,
   "id": "29cf5ab1",
   "metadata": {},
   "outputs": [],
   "source": [
    "deadline_el = browser.find_element(By.ID, \"assignment_deadline_deadline_at\")"
   ]
  },
  {
   "cell_type": "code",
   "execution_count": 17,
   "id": "b6f30806",
   "metadata": {},
   "outputs": [],
   "source": [
    "deadline_el.send_keys(\"12122022\")"
   ]
  },
  {
   "cell_type": "code",
   "execution_count": 20,
   "id": "17ee2df8",
   "metadata": {},
   "outputs": [],
   "source": [
    "from selenium.webdriver.common.keys import Keys\n",
    "\n",
    "deadline_el.send_keys(\"12122022\")\n",
    "deadline_el.send_keys(Keys.RIGHT)\n",
    "deadline_el.send_keys(\"1159P\")\n"
   ]
  }
 ],
 "metadata": {
  "kernelspec": {
   "display_name": "Python 3 (ipykernel)",
   "language": "python",
   "name": "python3"
  },
  "language_info": {
   "codemirror_mode": {
    "name": "ipython",
    "version": 3
   },
   "file_extension": ".py",
   "mimetype": "text/x-python",
   "name": "python",
   "nbconvert_exporter": "python",
   "pygments_lexer": "ipython3",
   "version": "3.11.7"
  }
 },
 "nbformat": 4,
 "nbformat_minor": 5
}
