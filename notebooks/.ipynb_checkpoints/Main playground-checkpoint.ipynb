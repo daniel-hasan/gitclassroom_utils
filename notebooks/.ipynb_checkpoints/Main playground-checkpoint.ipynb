{
 "cells": [
  {
   "cell_type": "code",
   "execution_count": 1,
   "id": "3a86580d",
   "metadata": {},
   "outputs": [],
   "source": [
    "import sys\n",
    "\n",
    "import sys\n",
    "def restart_django():\n",
    "    import os\n",
    "    import sys\n",
    "    import django\n",
    "    #define a raiz do projeto par aser possivel importar os modulos\n",
    "    sys.path.append(\"../src\")\n",
    "\n",
    "    #configura o ambiente\n",
    "    os.environ.setdefault(\"DJANGO_SETTINGS_MODULE\", \"github_classroom.settings\")\n",
    "    os.environ[\"DJANGO_ALLOW_ASYNC_UNSAFE\"] = \"true\"\n",
    "    django.setup()\n",
    "restart_django()"
   ]
  },
  {
   "cell_type": "markdown",
   "id": "fc70d286",
   "metadata": {},
   "source": [
    "## Salva tarefas do Github ClassRoom"
   ]
  },
  {
   "cell_type": "code",
   "execution_count": 2,
   "id": "23b3ac06",
   "metadata": {
    "scrolled": true
   },
   "outputs": [
    {
     "name": "stdout",
     "output_type": "stream",
     "text": [
      "[INF.101] Lab Programação Web 2024 https://classroom.github.com/classrooms/150465862-inf-101-lab-programacao-web-2024\n",
      "[DECOM.199] Prog. Web 2024/1 https://classroom.github.com/classrooms/150465862-decom-199-prog-web-2024-1\n",
      "[1B-carn] Plantas Carnivoras (3p): https://classroom.github.com/classrooms/150465862-decom-199-prog-web-2024-1/assignments/1b-carn-plantas-carnivoras-3p\n",
      "-----------------\n",
      "[1B-js0] Aula de JS0 (3p): https://classroom.github.com/classrooms/150465862-decom-199-prog-web-2024-1/assignments/js0\n",
      "-----------------\n",
      "[2B-a] aaaa (2p): https://classroom.github.com/classrooms/150465862-decom-199-prog-web-2024-1/assignments/2b-a-aaaa-2p\n",
      "-----------------\n",
      "[2B-tst] Testest (2p): https://classroom.github.com/classrooms/150465862-decom-199-prog-web-2024-1/assignments/2b-tst-testest-2p\n",
      "-----------------\n"
     ]
    }
   ],
   "source": [
    "from classroom.scrapper.github_classroom.controller import update_tasks\n",
    "update_tasks()"
   ]
  },
  {
   "cell_type": "markdown",
   "id": "1bd89bfc",
   "metadata": {},
   "source": [
    "## Salva tarefas persistidas no SIGAA"
   ]
  },
  {
   "cell_type": "code",
   "execution_count": null,
   "id": "da440a73",
   "metadata": {},
   "outputs": [],
   "source": [
    "from classroom.scrapper.sigaa.controller import update_tasks as update_tasks_sigaa\n",
    "update_tasks_sigaa()"
   ]
  },
  {
   "cell_type": "markdown",
   "id": "e7b2c8e9",
   "metadata": {},
   "source": [
    "## Avalia notas dos alunos"
   ]
  },
  {
   "cell_type": "code",
   "execution_count": null,
   "id": "c8cc02b4",
   "metadata": {},
   "outputs": [],
   "source": []
  },
  {
   "cell_type": "markdown",
   "id": "7ea78eb0",
   "metadata": {},
   "source": [
    "## Lança notas persistidas no SIGAA"
   ]
  },
  {
   "cell_type": "code",
   "execution_count": null,
   "id": "832fdded",
   "metadata": {},
   "outputs": [],
   "source": []
  }
 ],
 "metadata": {
  "kernelspec": {
   "display_name": "Python 3 (ipykernel)",
   "language": "python",
   "name": "python3"
  },
  "language_info": {
   "codemirror_mode": {
    "name": "ipython",
    "version": 3
   },
   "file_extension": ".py",
   "mimetype": "text/x-python",
   "name": "python",
   "nbconvert_exporter": "python",
   "pygments_lexer": "ipython3",
   "version": "3.11.7"
  }
 },
 "nbformat": 4,
 "nbformat_minor": 5
}
