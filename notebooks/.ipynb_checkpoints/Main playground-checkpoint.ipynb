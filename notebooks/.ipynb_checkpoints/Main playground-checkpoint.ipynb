{
 "cells": [
  {
   "cell_type": "code",
   "execution_count": 1,
   "id": "17287c56",
   "metadata": {},
   "outputs": [],
   "source": [
    "import sys\n",
    "\n",
    "import sys\n",
    "def restart_django():\n",
    "    import os\n",
    "    import sys\n",
    "    import django\n",
    "    #define a raiz do projeto par aser possivel importar os modulos\n",
    "    sys.path.append(\"../src\")\n",
    "\n",
    "    #configura o ambiente\n",
    "    os.environ.setdefault(\"DJANGO_SETTINGS_MODULE\", \"github_classroom.settings\")\n",
    "    os.environ[\"DJANGO_ALLOW_ASYNC_UNSAFE\"] = \"true\"\n",
    "    django.setup()\n",
    "restart_django()"
   ]
  },
  {
   "cell_type": "code",
   "execution_count": 2,
   "id": "0982d3cb",
   "metadata": {},
   "outputs": [],
   "source": [
    "LPW = \"INF.101\"\n",
    "WEBGRAD = \"DECOM.199\"\n"
   ]
  },
  {
   "cell_type": "code",
   "execution_count": null,
   "id": "9cd8695c",
   "metadata": {},
   "outputs": [],
   "source": [
    "from classroom.scrapper.base import abre_chrome_github##\n",
    "\n",
    "abre_chrome_github()"
   ]
  },
  {
   "cell_type": "markdown",
   "id": "358b9ad0",
   "metadata": {},
   "source": [
    "## Avalia/salva notas dos alunos"
   ]
  },
  {
   "cell_type": "code",
   "execution_count": 3,
   "id": "83281529",
   "metadata": {
    "scrolled": true
   },
   "outputs": [
    {
     "name": "stdout",
     "output_type": "stream",
     "text": [
      "Veio aqui\n",
      "Nao encontrou o aluno Tiago está em ALICE SOARES ROSA VASCONCELOS?\n",
      "Estudante ALICE SOARES ROSA VASCONCELOS ignorado\n",
      "Nao encontrou o aluno Tiago está em ANA SOFIA DE MIRANDA?\n",
      "Estudante ANA SOFIA DE MIRANDA ignorado\n",
      "Nao encontrou o aluno Tiago está em ARTUR DIAS ALVES PIRES?\n",
      "Estudante ARTUR DIAS ALVES PIRES ignorado\n",
      "Nao encontrou o aluno Tiago está em CAIO FILLIPE SOUZA DA SILVA?\n",
      "Estudante CAIO FILLIPE SOUZA DA SILVA ignorado\n",
      "Nao encontrou o aluno Tiago está em CAROLINA MOREIRA BRAGA?\n",
      "Estudante CAROLINA MOREIRA BRAGA ignorado\n",
      "Nao encontrou o aluno Tiago está em CESAR COSTA RIBEIRO?\n",
      "Estudante CESAR COSTA RIBEIRO ignorado\n",
      "Nao encontrou o aluno Tiago está em DANIEL HENRIQUE ANTUNES?\n",
      "Estudante DANIEL HENRIQUE ANTUNES ignorado\n",
      "Nao encontrou o aluno Tiago está em EDUARDO LOPES FIALHO?\n",
      "Estudante EDUARDO LOPES FIALHO ignorado\n",
      "Nao encontrou o aluno Tiago está em FRANCISCO MARTINS MENEZES MATOS?\n",
      "Estudante FRANCISCO MARTINS MENEZES MATOS ignorado\n",
      "Nao encontrou o aluno Tiago está em GABRIEL CEZAR DEOLINDO?\n",
      "Estudante GABRIEL CEZAR DEOLINDO ignorado\n",
      "Nao encontrou o aluno Tiago está em GABRIEL MARROCOS FONSECA?\n",
      "Estudante GABRIEL MARROCOS FONSECA ignorado\n",
      "Nao encontrou o aluno Tiago está em GUILHERME YURI TIMÓTEO PLÁCIDO?\n",
      "Estudante GUILHERME YURI TIMÓTEO PLÁCIDO ignorado\n",
      "Nao encontrou o aluno Tiago está em HEITOR DE CARVALHO BARBOSA CAMARGOS?\n",
      "Estudante HEITOR DE CARVALHO BARBOSA CAMARGOS ignorado\n",
      "Nao encontrou o aluno Tiago está em HIKE PENEDO MENDES?\n",
      "Estudante HIKE PENEDO MENDES ignorado\n",
      "Nao encontrou o aluno Tiago está em Hugo Rodrigues?\n",
      "Estudante Hugo Rodrigues ignorado\n",
      "Nao encontrou o aluno Tiago está em ISABELLA RODRIGUES OLIVEIRA DE SOUZA?\n",
      "Estudante ISABELLA RODRIGUES OLIVEIRA DE SOUZA ignorado\n",
      "Nao encontrou o aluno Tiago está em JEAN CARLO DA SILVA SANTOS?\n",
      "Estudante JEAN CARLO DA SILVA SANTOS ignorado\n",
      "Nao encontrou o aluno Tiago está em LEANDRO MATEUS MENDES?\n",
      "Estudante LEANDRO MATEUS MENDES ignorado\n",
      "Nao encontrou o aluno Tiago está em LUÍS FILLIPE DIAS DE OLIVEIRA?\n",
      "Estudante LUÍS FILLIPE DIAS DE OLIVEIRA ignorado\n",
      "Nao encontrou o aluno Tiago está em LUIZA MARQUES SILVA?\n",
      "Estudante LUIZA MARQUES SILVA ignorado\n",
      "Nao encontrou o aluno Tiago está em MATEUS TERTULIANO LIMA?\n",
      "Estudante MATEUS TERTULIANO LIMA ignorado\n",
      "Nao encontrou o aluno Tiago está em MATEUS VASCONCELOS RODRIGUES MENDES?\n",
      "Estudante MATEUS VASCONCELOS RODRIGUES MENDES ignorado\n",
      "Nao encontrou o aluno Tiago está em OTAVIO COTA GOMES QUINTAO?\n",
      "Estudante OTAVIO COTA GOMES QUINTAO ignorado\n",
      "Nao encontrou o aluno Tiago está em PEDRO DAMASIO MOREIRA DIAS?\n",
      "Estudante PEDRO DAMASIO MOREIRA DIAS ignorado\n",
      "Nao encontrou o aluno Tiago está em PEDRO VIDAL SILVA?\n",
      "Estudante PEDRO VIDAL SILVA ignorado\n",
      "Nao encontrou o aluno Tiago está em RAPHAEL EXPEDITO DAYRELL COMINI?\n",
      "Estudante RAPHAEL EXPEDITO DAYRELL COMINI ignorado\n",
      "Nao encontrou o aluno Tiago está em SAMUEL MARQUES DE BRITTO?\n",
      "Estudante SAMUEL MARQUES DE BRITTO ignorado\n",
      "Nao encontrou o aluno Tiago está em SAMUEL SOARES DOS SANTOS?\n",
      "Estudante SAMUEL SOARES DOS SANTOS ignorado\n",
      "Nao encontrou o aluno Tiago está em SARA ESTER ALVES MOREIRA?\n",
      "Estudante SARA ESTER ALVES MOREIRA ignorado\n",
      "Nao encontrou o aluno Tiago está em THAUAN GUILHERME DE SOUZA ARAUJO?\n",
      "Estudante THAUAN GUILHERME DE SOUZA ARAUJO ignorado\n",
      "Veio aqui\n",
      "Nao encontrou o aluno Tiago está em THIERS RUSSO RESENDE DO BOM CONSELHO?\n",
      "Estudante THIERS RUSSO RESENDE DO BOM CONSELHO ignorado\n",
      "Nao encontrou o aluno Tiago está em TIAGO PEREIRA DE ALMEIDA?\n",
      "achou\n",
      "Tempo: 8.68724012374878\n",
      "Tempo: 11.808074474334717\n",
      "Tempo: 10.344029426574707\n",
      "Tempo: 11.241231918334961\n",
      "Tempo: 9.49976110458374\n"
     ]
    }
   ],
   "source": [
    "from classroom.scrapper.github_classroom.controller import update_grades\n",
    "\n",
    "first_student_to_eval = None\n",
    "update_grades(LPW, \"carn\", first_student_to_eval)\n",
    "#abre_chrome_github()"
   ]
  },
  {
   "cell_type": "code",
   "execution_count": null,
   "id": "2afe3454",
   "metadata": {},
   "outputs": [],
   "source": []
  },
  {
   "cell_type": "code",
   "execution_count": null,
   "id": "8376ba04",
   "metadata": {},
   "outputs": [],
   "source": [
    "from classroom.scrapper.github_classroom.controller import update_grades\n",
    "import os \n",
    "\n",
    "del os.environ['DJANGO_SETTINGS_MODULE']\n",
    "update_grades(\"INF.101\", \"toy\")"
   ]
  },
  {
   "cell_type": "markdown",
   "id": "09bcd106",
   "metadata": {},
   "source": [
    "## Lança notas persistidas no SIGAA"
   ]
  },
  {
   "cell_type": "code",
   "execution_count": null,
   "id": "9253c540",
   "metadata": {},
   "outputs": [],
   "source": [
    "from classroom.scrapper.sigaa.controller import update_grades as update_grades_sigaa\n",
    "update_grades_sigaa()\n"
   ]
  },
  {
   "cell_type": "markdown",
   "id": "edb11eb7",
   "metadata": {},
   "source": [
    "## Salva tarefas do Github Classroom"
   ]
  },
  {
   "cell_type": "code",
   "execution_count": null,
   "id": "ff7268be",
   "metadata": {},
   "outputs": [],
   "source": [
    "from classroom.scrapper.base import abre_chrome_github\n",
    "browser = abre_chrome_github()"
   ]
  },
  {
   "cell_type": "code",
   "execution_count": null,
   "id": "f6cb5f1a",
   "metadata": {
    "scrolled": true
   },
   "outputs": [],
   "source": [
    "from classroom.scrapper.github_classroom.controller import update_tasks\n",
    "update_tasks(LPW)"
   ]
  },
  {
   "cell_type": "markdown",
   "id": "aa8f625e",
   "metadata": {},
   "source": [
    "## Notas atribuidas por tópico"
   ]
  },
  {
   "cell_type": "code",
   "execution_count": null,
   "id": "21292d88",
   "metadata": {},
   "outputs": [],
   "source": [
    "from classroom.models import *\n",
    "from django.db.models import Sum, F\n",
    "import pandas as pd\n",
    "\n",
    "disciplina = \"Prog. Web 2024/1\"\n",
    "grade_per_topic = Assignment.objects.filter(discipline_fk__name = disciplina)\\\n",
    "                .values(\"topic_fk__acronym\")\\\n",
    "                .annotate(topico=F('topic_fk__acronym'),\n",
    "                            nota=Sum(\"total_grade\"))\\\n",
    "            .values(\"topico\",\"nota\")\n",
    "                                                         \n",
    "pd.DataFrame.from_dict(grade_per_topic)"
   ]
  },
  {
   "cell_type": "markdown",
   "id": "2a20bbc2",
   "metadata": {},
   "source": [
    "## Salva tarefas persistidas no SIGAA"
   ]
  },
  {
   "cell_type": "code",
   "execution_count": null,
   "id": "e2e8ae02",
   "metadata": {
    "scrolled": false
   },
   "outputs": [],
   "source": [
    "from classroom.scrapper.sigaa.controller import update_tasks as update_tasks_sigaa\n",
    "disciplina = \"Prog. Web 2024/1\"\n",
    "update_tasks_sigaa(disciplina)"
   ]
  },
  {
   "cell_type": "code",
   "execution_count": null,
   "id": "e511c8d1",
   "metadata": {},
   "outputs": [],
   "source": [
    "from datetime import datetime\n",
    "datetime.now()"
   ]
  },
  {
   "cell_type": "markdown",
   "id": "760ff10c",
   "metadata": {},
   "source": [
    "## Atualiza data das tarefas no GITHUB Classrrom"
   ]
  },
  {
   "cell_type": "code",
   "execution_count": null,
   "id": "f456897a",
   "metadata": {
    "scrolled": true
   },
   "outputs": [],
   "source": [
    "from classroom.scrapper.github_classroom.controller import update_classroom_assignment_deadlines\n",
    "from datetime import datetime\n",
    "\n",
    "from_deadline = datetime.now()\n",
    "discipline_name = \"Lab Programação Web 2024\"\n",
    "\n",
    "update_classroom_assignment_deadlines(discipline_name, from_deadline)"
   ]
  },
  {
   "cell_type": "code",
   "execution_count": null,
   "id": "ff07abcc",
   "metadata": {},
   "outputs": [],
   "source": [
    "from classroom.models import *\n",
    "ninja = Assignment.objects.get(discipline_fk__name = \"Lab Programação Web 2024\", acronym = \"ninj\")\n",
    "ninja.delete()"
   ]
  },
  {
   "cell_type": "markdown",
   "id": "93fc4240",
   "metadata": {},
   "source": [
    "## Testes"
   ]
  },
  {
   "cell_type": "code",
   "execution_count": null,
   "id": "e43d84e5",
   "metadata": {},
   "outputs": [],
   "source": [
    "from classroom.scrapper.base import abre_chrome_github\n",
    "from selenium_utils.utils import *\n",
    "\n",
    "browser = abre_chrome_github()\n",
    "\n",
    "assignment = \"https://classroom.github.com/classrooms/150465862-inf-101-lab-programacao-web-2024/new_assignments/web-abelhas/settings\"\n",
    "open_new_page(assignment, browser)"
   ]
  },
  {
   "cell_type": "code",
   "execution_count": null,
   "id": "7a0bb55e",
   "metadata": {},
   "outputs": [],
   "source": [
    "deadline_el = browser.find_element(By.ID, \"assignment_deadline_deadline_at\")"
   ]
  },
  {
   "cell_type": "code",
   "execution_count": null,
   "id": "6360a475",
   "metadata": {},
   "outputs": [],
   "source": [
    "deadline_el.send_keys(\"12122022\")"
   ]
  },
  {
   "cell_type": "code",
   "execution_count": null,
   "id": "15839e7d",
   "metadata": {},
   "outputs": [],
   "source": [
    "from selenium.webdriver.common.keys import Keys\n",
    "\n",
    "deadline_el.send_keys(\"12122022\")\n",
    "deadline_el.send_keys(Keys.RIGHT)\n",
    "deadline_el.send_keys(\"1159P\")\n"
   ]
  }
 ],
 "metadata": {
  "kernelspec": {
   "display_name": "Python 3 (ipykernel)",
   "language": "python",
   "name": "python3"
  },
  "language_info": {
   "codemirror_mode": {
    "name": "ipython",
    "version": 3
   },
   "file_extension": ".py",
   "mimetype": "text/x-python",
   "name": "python",
   "nbconvert_exporter": "python",
   "pygments_lexer": "ipython3",
   "version": "3.11.9"
  }
 },
 "nbformat": 4,
 "nbformat_minor": 5
}
